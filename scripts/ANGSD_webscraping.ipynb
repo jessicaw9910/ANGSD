{
  "nbformat": 4,
  "nbformat_minor": 0,
  "metadata": {
    "colab": {
      "name": "ANGSD_webscraping.ipynb",
      "provenance": [],
      "collapsed_sections": []
    },
    "kernelspec": {
      "name": "python3",
      "display_name": "Python 3"
    }
  },
  "cells": [
    {
      "cell_type": "code",
      "metadata": {
        "id": "JbVNk1-C8cgQ",
        "colab_type": "code",
        "colab": {}
      },
      "source": [
        "import requests\n",
        "from bs4 import BeautifulSoup\n",
        "import pandas as pd\n",
        "import numpy as np\n",
        "import re"
      ],
      "execution_count": 0,
      "outputs": []
    },
    {
      "cell_type": "code",
      "metadata": {
        "id": "l8_5WHbE4Hy-",
        "colab_type": "code",
        "outputId": "c950e580-8a77-4d6f-e163-627bdadac7b6",
        "colab": {
          "base_uri": "https://localhost:8080/",
          "height": 125
        }
      },
      "source": [
        "# from google.colab import drive\n",
        "# drive.mount('/content/drive')"
      ],
      "execution_count": 0,
      "outputs": [
        {
          "output_type": "stream",
          "text": [
            "Go to this URL in a browser: https://accounts.google.com/o/oauth2/auth?client_id=947318989803-6bn6qk8qdgf4n4g3pfee6491hc0brc4i.apps.googleusercontent.com&redirect_uri=urn%3aietf%3awg%3aoauth%3a2.0%3aoob&response_type=code&scope=email%20https%3a%2f%2fwww.googleapis.com%2fauth%2fdocs.test%20https%3a%2f%2fwww.googleapis.com%2fauth%2fdrive%20https%3a%2f%2fwww.googleapis.com%2fauth%2fdrive.photos.readonly%20https%3a%2f%2fwww.googleapis.com%2fauth%2fpeopleapi.readonly\n",
            "\n",
            "Enter your authorization code:\n",
            "··········\n",
            "Mounted at /content/drive\n"
          ],
          "name": "stdout"
        }
      ]
    },
    {
      "cell_type": "code",
      "metadata": {
        "id": "eLfV_ZgzxkP5",
        "colab_type": "code",
        "outputId": "c38498cd-9a04-4f97-da1e-0f7619f0e412",
        "colab": {
          "base_uri": "https://localhost:8080/",
          "height": 123
        }
      },
      "source": [
        "# import os\n",
        "# os.chdir('/content/drive/My Drive/')\n",
        "!git clone https://github.com/jessicaw9910/ANGSD.git"
      ],
      "execution_count": 2,
      "outputs": [
        {
          "output_type": "stream",
          "text": [
            "Cloning into 'ANGSD'...\n",
            "remote: Enumerating objects: 55, done.\u001b[K\n",
            "remote: Counting objects: 100% (55/55), done.\u001b[K\n",
            "remote: Compressing objects: 100% (42/42), done.\u001b[K\n",
            "remote: Total 55 (delta 10), reused 47 (delta 6), pack-reused 0\u001b[K\n",
            "Unpacking objects: 100% (55/55), done.\n"
          ],
          "name": "stdout"
        }
      ]
    },
    {
      "cell_type": "markdown",
      "metadata": {
        "id": "cdEfRz5hT5f2",
        "colab_type": "text"
      },
      "source": [
        "# GSM Number and Links"
      ]
    },
    {
      "cell_type": "code",
      "metadata": {
        "id": "sYm4o4x68m2e",
        "colab_type": "code",
        "outputId": "ebd163cf-319c-45e5-b398-e093acffbd17",
        "colab": {
          "base_uri": "https://localhost:8080/",
          "height": 90
        }
      },
      "source": [
        "result = requests.get(\"https://www.ncbi.nlm.nih.gov/geo/query/acc.cgi?acc=GSE40419\")\n",
        "print(result.status_code)  \n",
        "print(result.headers)\n",
        "src = result.content\n",
        "print(src)\n",
        "soup = BeautifulSoup(src, 'lxml')\n",
        "links = soup.find_all(\"a\")"
      ],
      "execution_count": 27,
      "outputs": [
        {
          "output_type": "stream",
          "text": [
            "200\n",
            "{'Date': 'Thu, 02 Apr 2020 14:14:45 GMT', 'Server': 'Apache', 'Strict-Transport-Security': 'max-age=31536000; includeSubDomains; preload', 'Referrer-Policy': 'origin-when-cross-origin', 'Content-Security-Policy': 'upgrade-insecure-requests', 'Cache-Control': 'no-cache', 'NCBI-PHID': '0C42D855E85F35510000000000000001.m_1', 'NCBI-SID': '0C42D855E85F3551_0000SID', 'Pragma': 'no-cache', 'Access-Control-Allow-Methods': 'POST, GET, PUT, OPTIONS, PATCH, DELETE', 'Access-Control-Allow-Origin': '', 'Access-Control-Allow-Credentials': 'true', 'Access-Control-Allow-Headers': 'Origin,X-Accept-Charset,X-Accept,Content-Type,X-Requested-With,NCBI-SID,NCBI-PHID', 'Content-Type': 'text/html', 'Set-Cookie': 'ncbi_sid=0C42D855E85F3551_0000SID; domain=.nih.gov; path=/; expires=Fri, 02 Apr 2021 14:14:45 GMT', 'Vary': 'Accept-Encoding', 'Content-Encoding': 'gzip', 'X-UA-Compatible': 'IE=Edge', 'X-XSS-Protection': '1; mode=block', 'Keep-Alive': 'timeout=1, max=10', 'Connection': 'Keep-Alive', 'Transfer-Encoding': 'chunked'}\n",
            "b'<!DOCTYPE HTML PUBLIC \"-//W3C//DTD HTML 4.01 Transitional//EN\">\\n<HTML>\\n  <HEAD>\\n    \\n    <style type=\"text/css\">\\n      a { text-decoration: none; }\\n\\t.bordergc {background-color: #6699CC;}\\n\\t.bordergd {background-color: #B6C7E5;}\\n\\t.borderge {background-color: #EEF3FB;}\\n\\t.bordergf {background-color: #FFFFFF;}\\n\\t.bordergg {background-color: #CCCCCC;}\\n      .small8b { font-size:8pt;\\n                font-family: ariel,helvetica,sans-serif;\\n                color:#6633cc;\\n              }\\n      .small8db { font-size:8pt;\\n                font-family: ariel,helvetica,sans-serif;\\n                color:#4411aa;\\n              }\\n\\n    </style>\\n    <META http-equiv=\"Content-Type\"\\n      content=\"text/html; charset=UTF-8\">\\n    <META name=\"keywords\"\\n      CONTENT=\"NCBI GEO Gene Expression Omnibus microarray oligonucleotide array SAGE\">\\n    <META name=\"description\"\\n      content=\"NCBI\\'s Gene Expression Omnibus (GEO) is a public archive and resource for gene expression data.\">\\n\\n<meta name=\"ncbi_app\" content=\"geo\">\\n<meta name=\"ncbi_pdid\" content=\"full\">\\n<meta name=\"ncbi_phid\" content=\"0C42D855E85F35510000000000000001\">\\n<meta name=\"ncbi_sessionid\" content=\"0C42D855E85F3551_0000SID\">\\n\\n    <TITLE>\\n    GEO Accession viewer\\n    </TITLE>\\n    <link rel=\"stylesheet\"\\n      href=\"/corehtml/ncbi.css\">\\n    <!-- GEO_SCRIPT -->\\n\\n<SCRIPT LANGUAGE=\"JavaScript1.2\"\\nSRC=\"/coreweb/javascript/imagemouseover.js\"></SCRIPT>\\n\\n<SCRIPT LANGUAGE=\"JavaScript1.2\"\\nSRC=\"/coreweb/javascript/show_message.js\"></SCRIPT>\\n\\n<script type=\"text/javascript\" src=\"/corehtml/jsutils/utils.1.js\"></script>\\n\\n<script type=\"text/javascript\" src=\"/corehtml/jsutils/remote_data_provider.1.js\"></script>\\n\\n<SCRIPT LANGUAGE=\"JavaScript1.2\"\\nSRC=\"/geo/js/help_def_messages.js\"></SCRIPT>\\n\\n\\n\\n<LINK  rel = STYLESHEET href = \"../info/geo_style.css\" Type  = \"text/css\" >\\n<link rel=\"stylesheet\" type=\"text/css\" href=\"acc.css\" />\\n  <script language=\"Javascript\">\\n\\n  function OnFormFieldChange()\\n  {\\n    var view = document.getElementById(\"view\");\\n\\n    if(document.getElementById(\"ViewOptions\").form.value == \\'html\\')\\n    {\\n        view.remove(3);\\n        view.remove(2);\\n    }\\n    else\\n    {\\n        var NewOption = document.createElement(\"OPTION\");\\n\\n        NewOption.text = \"Full\";\\n        NewOption.value = \"full\";\\n\\n        try\\n        {\\n            view.add(NewOption, null);\\n        }\\n        catch(ex)\\n        {\\n            view.add(NewOption);\\n        }\\n\\n        NewOption = document.createElement(\"OPTION\");\\n\\n        NewOption.text = \"Data\";\\n        NewOption.value = \"data\";\\n\\n        try\\n        {\\n            view.add(NewOption, null);\\n        }\\n        catch(ex)\\n        {\\n            view.add(NewOption);\\n        }\\n    }\\n  }\\n\\n  function SubmitViewOptionsForm()\\n  {\\n\\tvar form = document.forms.ViewOptions;\\n    if(form.form.value == \\'html\\')\\n    {\\n\\t\\tform.form.setAttribute(\\'disabled\\',\\'disabled\\');\\n\\t\\tif (form.view.value == \\'quick\\') {\\n\\t\\t\\tform.view.setAttribute(\\'disabled\\',\\'disabled\\');\\n\\t\\t}\\n\\t\\tif (form.targ.value == \\'self\\') {\\n\\t\\t\\tform.targ.setAttribute(\\'disabled\\',\\'disabled\\');\\n\\t\\t}\\n        var token = document.getElementById(\"token_input\");\\n        if (token) {\\n            form.token.value = token.value;\\n        } else {\\n            form.token.setAttribute(\\'disabled\\',\\'disabled\\');\\n        }\\n        form.submit();\\n    }\\n    else\\n    {\\n        window.open(\"acc.cgi?acc=\" + form.acc.value + \"&targ=\" + form.targ.value +\\n                  \"&form=\" + form.form.value + \"&view=\" + form.view.value, \"_self\");\\n    }\\n\\n    return false;\\n  }\\n  \\n  function ViewOptionsFormKeyDown(event)\\n  {\\n\\tif (event == undefined)\\n\\t{    \\n\\t\\tevent = window.event;\\n\\t}\\n\\tif (event.keyCode == 13)\\n\\t{\\n\\t\\tSubmitViewOptionsForm();\\n\\t\\treturn false;\\n\\t}\\n  };\\n\\n  function OpenFTP(url)\\n  {\\n    window.open(url, \\'_blank\\');\\n  }\\n\\n  function OpenLink(url, where)\\n  {\\n    window.open(url, where);\\n  }\\n\\n  utils.addEvent(window, \"load\", OnFormFieldChange)\\n  </script>\\n\\n</head>\\n<body background=\"/coreweb/template1/pix/bg_main3.gif\" topmargin=\"20\" marginheight=\"20\">\\n\\n\\n<script type=\"text/javascript\" src=\"/core/jig/1.15.0/js/jig.min.js\"></script>\\n<script type=\"text/javascript\" src=\"/corehtml/pmc/granthub/v0/granthubsearch.min.js\"></script>\\n<script type=\"text/javascript\" src=\"/geo/js/dd_menu.js\"></script>\\n<!-- Global alerts -->\\n<script type=\"text/javascript\">\\n    jQuery.getScript(\"/core/alerts/alerts.js\", function () {\\n        galert([\\'#galerts_table\\',\\'body > *:nth-child(1)\\'])\\n    });\\n</script>\\n\\t<table width=\"740\" border=\"0\" cellspacing=\"0\" cellpadding=\"0\" align=\"center\" >\\n\\t\\t\\t<tr>\\n\\t\\t\\t\\t<td>\\n\\t\\t\\t\\t\\t<table width=\"100%\" border=\"0\" cellspacing=\"0\" cellpadding=\"0\" align=\"center\">\\n\\t\\t\\t\\t\\t\\t<tr>\\n\\t\\t\\t\\t\\t\\t\\t<td><a href=\"/\"><img src=\"/geo/img/ncbi_logo.gif\" alt=\"NCBI Logo\" width=\"145\" height=\"66\" border=\"0\"></a></td>\\n\\t\\t\\t\\t\\t\\t\\t<td width=\"100%\" align=\"center\" valign=\"middle\" nowrap background=\"/coreweb/template1/pix/top_bg_white.gif\"><img src=\"/coreweb/template1/pix/pixel.gif\" width=\"550\" height=\"1\" alt=\"\" border=\"0\"><br>\\n\\t\\t\\t\\t\\t\\t\\t\\t<a href=\"/geo/\"><img src=\"/geo/img/geo_main.gif\" alt=\"GEO Logo\" border=\"0\"></a>\\n\\t\\t\\t\\t\\t\\t\\t</td>\\n\\t\\t\\t\\t\\t\\t\\t<td align=\"right\" background=\"/coreweb/template1/pix/top_bg_white.gif\"><img src=\"/coreweb/template1/pix/top_right.gif\" alt=\"\" width=\"5\" height=\"66\" border=\"0\"></td>\\n\\t\\t\\t\\t\\t\\t</tr>\\n\\t\\t\\t\\t\\t</table>\\n\\t\\t\\t\\t\\t<table width=\"100%\" border=\"0\" cellspacing=\"0\" cellpadding=\"0\" align=\"center\">\\n\\t\\t\\t\\t\\t\\t<tr>\\n\\t\\t\\t\\t\\t\\t\\t<td><img src=\"/coreweb/template1/pix/top2_left.gif\" width=\"601\" height=\"2\" alt=\"\" border=\"0\"></td>\\n\\t\\t\\t\\t\\t\\t\\t<td width=\"100%\" background=\"/coreweb/template1/pix/top2_mid_bg.gif\"><img src=\"/coreweb/template1/pix/pixel.gif\" width=\"1\" height=\"1\" alt=\"\" border=\"0\"></td>\\n\\t\\t\\t\\t\\t\\t\\t<td align=\"right\"><img src=\"/coreweb/template1/pix/top2_right.gif\" alt=\"\" width=\"14\" height=\"2\" border=\"0\"></td>\\n\\t\\t\\t\\t\\t\\t</tr>\\n\\t\\t\\t\\t\\t</table>\\n                    <table width=\"100%\" border=\"0\" cellspacing=\"0\" cellpadding=\"0\" align=\"center\" id=\"galerts_table\"/>\\n\\t\\t\\t\\t\\t<table width=\"100%\" border=\"0\" cellspacing=\"0\" cellpadding=\"0\" align=\"center\">\\n\\t\\t\\t\\t\\t\\t<tr>\\n\\t\\t\\t\\t\\t\\t\\t<td><img src=\"/coreweb/template1/pix/top3_ulm_no_a.gif\" width=\"145\" height=\"16\" alt=\"\" border=\"0\" usemap=\"#unlmenu\" name=\"unl_menu_pix\"></td>\\n\\t\\t\\t\\t\\t\\t\\t<td background=\"/coreweb/template1/pix/top3_mainmenu_mid_bg.gif\"><img src=\"/coreweb/template1/pix/top3_mainmenu_left.gif\" width=\"3\" height=\"16\" alt=\"\" border=\"0\"></td>\\n\\t\\t\\t\\t\\t\\t\\t<td width=\"100%\" valign=\"middle\" nowrap background=\"/coreweb/template1/pix/top3_mainmenu_mid_bg.gif\">\\n\\n\\t\\t\\t\\t\\t<!-- GEO Navigation -->\\n\\t\\t\\t<ul id=\"geo_nav_bar\">\\n\\t\\t\\t\\t<li><a href=\"#\">GEO Publications</a>\\n\\t\\t\\t\\t\\t<ul class=\"sublist\">\\n\\t\\t\\t\\t\\t\\t<li><a href=\"/geo/info/GEOHandoutFinal.pdf\">Handout</a></li>\\n\\t\\t\\t\\t\\t\\t<li><a href=\"http://nar.oxfordjournals.org/content/41/D1/D991.full\">NAR 2013 (latest)</a></li>\\n\\t\\t\\t\\t\\t\\t<li><a href=\"http://nar.oupjournals.org/cgi/content/full/30/1/207?ijkey=oxMPOWseARs7o&amp;keytype=ref&amp;siteid=nar\">NAR 2002 (original)</a></li>\\n\\t\\t\\t\\t\\t\\t<li><a href=\"/pmc/3531084,3341798,3013736,2686538,2270403,1669752,1619900,1619899,539976,99122\">All publications</a></li>\\n\\t\\t\\t\\t\\t</ul>\\n\\t\\t\\t\\t</li>\\n\\t\\t\\t\\t<li><a href=\"/geo/info/faq.html\">FAQ</a></li>\\n\\t\\t\\t\\t<li><a href=\"/geo/info/MIAME.html\" title=\"Minimum Information About a Microarray Experiment\">MIAME</a></li>\\n\\t\\t\\t\\t<li><a href=\"mailto:geo@ncbi.nlm.nih.gov\">Email GEO</a></li>\\n\\t\\t\\t</ul>\\n\\t\\t\\t<!-- END GEO Navigation -->\\n\\n                    </td>\\n                    <td background=\"/coreweb/template1/pix/top3_mainmenu_mid_bg.gif\" align=\"right\"><img src=\"/coreweb/template1/pix/top3_mainmenu_right.gif\" width=\"5\" height=\"16\" alt=\"\" border=\"0\"></td>\\n                </tr>\\n            </table>\\n            \\n            <table width=\"100%\" border=\"0\" cellspacing=\"0\" cellpadding=\"0\" align=\"center\">\\n                <tr>\\n                    <td><img src=\"/coreweb/template1/pix/top4_ulm_left.gif\" width=\"145\" height=\"4\" alt=\"\" border=\"0\"></td>\\n                    <td width=\"100%\" background=\"/coreweb/template1/pix/top4_mid_bg.gif\"><img src=\"/coreweb/template1/pix/pixel.gif\" width=\"1\" height=\"1\" alt=\"\" border=\"0\"></td>\\n                    <td align=\"right\" background=\"/coreweb/template1/pix/top4_mid_bg.gif\"><img src=\"/coreweb/template1/pix/top4_ulm_right.gif\" width=\"5\" height=\"4\" alt=\"\" border=\"0\"></td>\\n                </tr>\\n            </table>\\n    \\n            <table width=\"100%\" border=\"0\" cellspacing=\"0\" cellpadding=\"0\" align=\"center\">\\n                <tr>\\n                    <td width=1 background=\"/coreweb/template1/pix/main_left_bg.gif\"><img src=\"/coreweb/template1/pix/main_left_bg.gif\" alt=\"\" width=\"4\" height=\"3\" border=\"0\"></td>\\n                    <td width=\"10000\" bgcolor=\"#F0F8FF\">\\n                        <table cellpadding=\"0\" cellspacing=\"0\" width=\"100%\"><tr><td><font class=\"Top_Navigation_text\" color=\"#2F6E87\" face=\"Verdana\" size=\"+1\">&nbsp;&nbsp;&nbsp;<a href=\"/\">NCBI</a> &gt; <a href=\"/geo\"><font color=\"\">GEO</font></a> &gt; <a href=\"acc.cgi\"><b>Accession Display</b></a><a href=\"javascript:RPopUpWindow_Set(geologinbar_location,260,120,\\'\\',\\'\\',\\'#E1EAE6\\',\\'\\',\\'#538AA9\\',\\'MessageBox2\\');\" onmouseout=\"RPopUpWindow_Stop()\"><img alt=\"Help\" height=\"11\" src=\"/coreweb/images/long_help4.gif\" style=\"border: none\" width=\"19\"></a></font></td>\\n<td align=\"right\">Not logged in | <a href=\"/geo/submitter?ix=1zs_8HfYcyd5NB2IlYDpaIBu4ICSl2Vvhgs2x5K4iPOqxr2LMkBKUCg883Qf-nYf71_eqJ95qZ5wqejrxOM\">Login</a><a href=\"javascript:RPopUpWindow_Set(geologinbar_login,260,200,\\'\\',\\'\\',\\'#E1EAE6\\',\\'\\',\\'#538AA9\\',\\'MessageBox2\\');\" onmouseout=\"RPopUpWindow_Stop()\"><img alt=\"Help\" height=\"11\" src=\"/coreweb/images/long_help4.gif\" style=\"border: none\" width=\"19\"></a></td>\\n</tr></table>\\n                    </td>\\n                    <td width=1 background=\"/coreweb/template1/pix/main_right_bg.gif\"><img src=\"/coreweb/template1/pix/main_right_bg.gif\" width=\"4\" height=\"3\" alt=\"\" border=\"0\"></td>\\n                </tr>\\n                <tr>\\n                    <td background=\"/coreweb/template1/pix/main_left_bg.gif\"><img src=\"/coreweb/template1/pix/main_left_bg.gif\" width=\"4\" height=\"1\" alt=\"\" border=\"0\"></td>\\n                    <td width=\"10000\" bgcolor=\"#E0EEEE\"><img src=\"/coreweb/template1/pix/pixel.gif\" width=\"1\" height=\"1\" alt=\"\" border=\"0\"></td>\\n                    <td align=\"right\" background=\"/coreweb/template1/pix/main_right_bg.gif\"><img src=\"/coreweb/template1/pix/main_right_bg.gif\" alt=\"\" width=\"4\" height=\"1\" border=\"0\"></td>\\n                </tr>\\n\\n                <tr>\\n                    <td background=\"/coreweb/template1/pix/main_left_bg.gif\"><img src=\"/coreweb/template1/pix/main_left_bg.gif\" width=\"4\" height=\"3\" alt=\"\" border=\"0\"></td>\\n                    <td width=\"100%\" bgcolor=\"White\">\\n                        <table width=\"98%\" border=\"0\" align=\"center\">\\n                            <tr>\\n                                <td>\\n                                    <table border=\"0\" cellspacing=\"0\" cellpadding=\"0\" align=\"right\" width=\"100%\">\\n                                        <tr>\\n                                            <td>\\n\\n <script type=\"text/javascript\" src=\"acc.js\"></script>\\n <span id=\"msg_err\" style=\"color:red\"></span>\\n <span id=\"msg_info\" style=\"color:blue\"></span>\\n<table cellpadding=\"0\" cellspacing=\"0\" style=\"border: 1px solid #C0F8FF\"><tr><td><img alt=\" \" height=\"35\" src=\"/coreweb/template1/pix/pixel.gif\" width=\"1\"></td>\\n<td bgcolor=\"#F0F8FF\" width=\"100%\"><font color=\"#0066CC\" face=\"Arial\" size=\"1\"><div id=\"HelpMessage\" style=\"font: 11px/11px arial, sans-serif\"><strong>GEO help:</strong> Mouse over screen elements for information.</div></font></td>\\n</tr></table>\\n<form action=\"acc.cgi\" enctype=\"application/x-www-form-urlencoded\" id=\"ViewOptions\" method=\"POST\" name=\"ViewOptions\" target=\"_self\"><table border=\"0\" cellpadding=\"0\" cellspacing=\"0\" width=\"100%\"><tr><td></td>\\n<td bgcolor=\"#CCCCCC\" nowrap valign=\"middle\" width=\"100%\"><table align=\"left\" border=\"0\" cellpadding=\"0\" cellspacing=\"0\"><tr><td nowrap><table border=\"0\" cellpadding=\"0\" cellspacing=\"0\"><tr><td valign=\"middle\"><input id=\"token\" name=\"token\" type=\"hidden\" value=\"\"><label for=\"scope\">Scope: </label><select id=\"scope\" name=\"targ\" onmouseout=\"onLinkOut(\\'HelpMessage\\' , geo_empty_help)\" onmouseover=\"onLinkOver(\\'HelpMessage\\' , geoaxema_scope)\" style=\"font-size: 10px\"><option selected value=\"self\">Self</option>\\n<option value=\"gpl\">Platform</option>\\n<option value=\"gsm\">Samples</option>\\n<option value=\"gse\">Series</option>\\n<option value=\"all\">Family</option>\\n</select>\\n&nbsp;&nbsp;<label for=\"form\">Format: </label><select id=\"form\" name=\"form\" onchange=\"OnFormFieldChange()\" onmouseout=\"onLinkOut(\\'HelpMessage\\' , geo_empty_help)\" onmouseover=\"onLinkOver(\\'HelpMessage\\' , geoaxema_format)\" style=\"font-size: 10px\"><option value=\"html\">HTML</option>\\n<option value=\"text\">SOFT</option>\\n<option value=\"xml\">MINiML</option>\\n</select>\\n&nbsp;&nbsp;<label for=\"view\">Amount: </label><select id=\"view\" name=\"view\" onmouseout=\"onLinkOut(\\'HelpMessage\\' , geo_empty_help)\" onmouseover=\"onLinkOver(\\'HelpMessage\\' , geoaxema_amount)\" style=\"font-size: 10px\"><option value=\"brief\">Brief</option>\\n<option selected value=\"quick\">Quick</option>\\n</select>\\n&nbsp;<label for=\"geo_acc\">GEO accession: </label><input id=\"geo_acc\" name=\"acc\" onkeydown=\"ViewOptionsFormKeyDown(event)\" onmouseout=\"onLinkOut(\\'HelpMessage\\' , geo_empty_help)\" onmouseover=\"onLinkOver(\\'HelpMessage\\' , geoaxema_acc)\" style=\"font-size: 10px\" type=\"text\" value=\"GSE40419\">&nbsp;&nbsp;</td>\\n<td valign=\"middle\"><img alt=\"Go\" border=\"0\" onclick=\"SubmitViewOptionsForm()\" onmouseout=\"onLinkOut(\\'HelpMessage\\' , geo_empty_help)\" onmouseover=\"onLinkOver(\\'HelpMessage\\' , geoaxema_go)\" src=\"/geo/img/buttons/go_button.gif\"></td>\\n</tr></table></td></tr></table></td>\\n</tr></table></form>\\n    <table><tr><td><table cellpadding=\"2\" cellspacing=\"0\" width=\"600\"><tr bgcolor=\"#cccccc\" valign=\"top\"><td colspan=\"2\"><table width=\"600\"><tr><td><strong class=\"acc\" id=\"GSE40419\"><a href=\"/geo/query/acc.cgi?acc=GSE40419\" onmouseout=\"onLinkOut(\\'HelpMessage\\' , geo_empty_help)\" onmouseover=\"onLinkOver(\\'HelpMessage\\' , geoaxema_recenter)\">Series GSE40419</a></strong></td>\\n<td></td>\\n<td align=\"right\" onmouseout=\"onLinkOut(\\'HelpMessage\\' , geo_empty_help)\" onmouseover=\"onLinkOver(\\'HelpMessage\\' , geoaxema_gds)\"><a href=\"/gds/?term=GSE40419[Accession]\">Query DataSets for GSE40419</a></td>\\n</tr></table></td></tr>\\n<tr valign=\"top\"><td>Status</td>\\n<td>Public on Sep 06, 2012</td>\\n</tr>\\n<tr valign=\"top\"><td nowrap>Title</td>\\n<td style=\"text-align: justify\">The transcriptional landscape and mutational profile of lung adenocarcinoma</td>\\n</tr>\\n<tr valign=\"top\"><td nowrap>Organism</td>\\n<td><a href=\"/Taxonomy/Browser/wwwtax.cgi?mode=Info&amp;id=9606\" onmouseout=\"onLinkOut(\\'HelpMessage\\' , geo_empty_help)\" onmouseover=\"onLinkOver(\\'HelpMessage\\' , geoaxema_organismus)\">Homo sapiens</a></td>\\n</tr>\\n<tr valign=\"top\"><td nowrap>Experiment type</td>\\n<td>Expression profiling by high throughput sequencing<br></td>\\n</tr>\\n<tr valign=\"top\"><td nowrap>Summary</td>\\n<td style=\"text-align: justify\">Understanding the molecular signatures of cancer is important to apply appropriate targeted therapies. Here we present the first large scale RNA sequencing study of lung adenocarcinoma demonstrating its power to identify somatic point mutations as well as transcriptional variants such as gene fusions, alternative splicing events and expression outliers. Our results reveal the genetic basis of 200 lung adenocarcinomas in Koreans including deep characterization of 87 surgical specimens by transcriptome sequencing. We identified driver somatic mutations in cancer genes including EGFR, KRAS, NRAS, BRAF, PIK3CA, MET and CTNNB1. New cancer genes, such as LMTK2, ARID1A, NOTCH2 and SMARCA4, were also suggested as candidates for novel drivers in lung adenocarcinoma. We found 45 fusion genes, 8 of which were chimeric tyrosine kinases involving ALK, RET, ROS1, FGFR2, AXL and PDGFRA. Of 17 recurrent alternative splicing events, we identified exon 14 skipping in the proto-oncogene MET as highly likely to be a cancer driver. The number of somatic mutations and expression outliers varied markedly between individual cancers and was strongly correlated with smoking history of cancer patients. In addition, we identified genomic blocks where genes were frequently up- or down-regulated together that could be explained by copy number alterations in the cancer tissue. We also found an association between lymph node metastasis and somatic mutations in TP53. Our findings broaden our understanding of lung adenocarcinoma and may also lead to new diagnostic and therapeutic approaches.<br>* Raw data files were submitted to EBI-SRA under accession number ERP001058.<br></td>\\n</tr>\\n<tr valign=\"top\"><td nowrap>&nbsp;</td>\\n<td></td>\\n</tr>\\n<tr valign=\"top\"><td nowrap>Overall design</td>\\n<td style=\"text-align: justify\">RNA-Seq for 87 lung adenocarcinomas and 77 adjacent normal tissues<br></td>\\n</tr>\\n<tr valign=\"top\"><td nowrap>&nbsp;</td>\\n<td></td>\\n</tr>\\n<tr valign=\"top\"><td>Contributor(s)</td>\\n<td><a href=\"/pubmed/?term=Seo J[Author]\">Seo J</a>, <a href=\"/pubmed/?term=Ju YS[Author]\">Ju YS</a>, <a href=\"/pubmed/?term=Lee W[Author]\">Lee W</a></td>\\n</tr>\\n<tr valign=\"top\"><td nowrap>Citation(s)</td>\\n<td><span class=\"pubmed_id\" id=\"22975805\"><a href=\"/pubmed/22975805\">22975805</a></span></td>\\n</tr>\\n<tr valign=\"top\"><td nowrap>BioProject</td>\\n<td><span class=\"gp_id\" id=\"PRJEB3132\"><a href=\"/bioproject/PRJEB3132\">PRJEB3132</a></span></td>\\n</tr>\\n<tr bgcolor=\"#eeeeee\" valign=\"top\"><td>Submission date</td>\\n<td>Aug 28, 2012</td>\\n</tr>\\n<tr bgcolor=\"#eeeeee\" valign=\"top\"><td>Last update date</td>\\n<td>Sep 13, 2019</td>\\n</tr>\\n<tr bgcolor=\"#eeeeee\" valign=\"top\"><td>Contact name</td>\\n<td>Won-Chul Lee</td>\\n</tr>\\n<tr bgcolor=\"#eeeeee\" valign=\"top\"><td nowrap>E-mail(s)</td>\\n<td><a href=\"mailto:wclee47@gmail.com\">wclee47@gmail.com</a><br></td>\\n</tr>\\n<tr bgcolor=\"#eeeeee\" valign=\"top\"><td nowrap>Organization name</td>\\n<td style=\"text-align: justify\">MD Anderson Cancer Center<br></td>\\n</tr>\\n<tr bgcolor=\"#eeeeee\" valign=\"top\"><td nowrap>Street address</td>\\n<td style=\"text-align: justify\">1881 East Road<br></td>\\n</tr>\\n<tr bgcolor=\"#eeeeee\" valign=\"top\"><td nowrap>City</td>\\n<td style=\"text-align: justify\">Houston</td>\\n</tr>\\n<tr bgcolor=\"#eeeeee\" valign=\"top\"><td nowrap>ZIP/Postal code</td>\\n<td style=\"text-align: justify\">77054</td>\\n</tr>\\n<tr bgcolor=\"#eeeeee\" valign=\"top\"><td nowrap>Country</td>\\n<td style=\"text-align: justify\">USA</td>\\n</tr>\\n<tr valign=\"top\"><td nowrap>&nbsp;</td>\\n<td></td>\\n</tr>\\n<tr valign=\"top\"><td>Platforms (1)</td>\\n<td onmouseout=\"onLinkOut(\\'HelpMessage\\' , geo_empty_help)\" onmouseover=\"onLinkOver(\\'HelpMessage\\' , geoaxema_recenter)\"><table cellpadding=\"3\" style=\"position:relative;top:-5px;left:-5px\"><tr><td valign=\"top\"><a href=\"/geo/query/acc.cgi?acc=GPL11154\" onmouseout=\"onLinkOut(\\'HelpMessage\\' , geo_empty_help)\" onmouseover=\"onLinkOver(\\'HelpMessage\\' , geoaxema_recenter)\">GPL11154</a></td>\\n<td valign=\"top\">Illumina HiSeq 2000 (Homo sapiens)</td>\\n</tr></table></td>\\n</tr>\\n<tr valign=\"top\"><td>Samples (164)<div id=\"L1897684163divshown\" name=\"L1897684163divshown\" style=\"display: none\"><a href=\"javascript:HandleVisibilityChangeL1897684163()\"><img alt=\"Less...\" border=\"0\" src=\"/geo/img/minus_close.gif\">&nbsp;Less...</a>&nbsp;&nbsp;&nbsp;&nbsp;&nbsp;&nbsp;&nbsp;&nbsp;&nbsp;&nbsp;&nbsp;</div>\\n<div id=\"L1897684163divhidden\" name=\"L1897684163divhidden\" style=\"display: block\"><a href=\"javascript:HandleVisibilityChangeL1897684163()\"><img alt=\"More...\" border=\"0\" src=\"/geo/img/plus_small.gif\">&nbsp;More...</a></div>\\n</td>\\n<td onmouseout=\"onLinkOut(\\'HelpMessage\\' , geo_empty_help)\" onmouseover=\"onLinkOver(\\'HelpMessage\\' , geoaxema_recenter)\"><table cellpadding=\"3\" style=\"position:relative;top:-5px;left:-5px\"><tr><td valign=\"top\"><a href=\"/geo/query/acc.cgi?acc=GSM993606\" onmouseout=\"onLinkOut(\\'HelpMessage\\' , geo_empty_help)\" onmouseover=\"onLinkOver(\\'HelpMessage\\' , geoaxema_recenter)\">GSM993606</a></td>\\n<td valign=\"top\">LC_C1</td>\\n</tr>\\n<tr><td valign=\"top\"><a href=\"/geo/query/acc.cgi?acc=GSM993607\" onmouseout=\"onLinkOut(\\'HelpMessage\\' , geo_empty_help)\" onmouseover=\"onLinkOver(\\'HelpMessage\\' , geoaxema_recenter)\">GSM993607</a></td>\\n<td valign=\"top\">LC_C2</td>\\n</tr>\\n<tr><td valign=\"top\"><a href=\"/geo/query/acc.cgi?acc=GSM993608\" onmouseout=\"onLinkOut(\\'HelpMessage\\' , geo_empty_help)\" onmouseover=\"onLinkOver(\\'HelpMessage\\' , geoaxema_recenter)\">GSM993608</a></td>\\n<td valign=\"top\">LC_C3</td>\\n</tr>\\n</table>\\n<script language=\"Javascript\" type=\"text/javascript\">\\n<!--\\nfunction HandleVisibilityChangeL1897684163(){if(document.getElementById(\"L1897684163div\").style.display == \"block\"){document.getElementById(\"L1897684163div\").style.display = \"none\";document.getElementById(\"L1897684163divhidden\").style.display = \"block\";document.getElementById(\"L1897684163divshown\").style.display = \"none\";}else{document.getElementById(\"L1897684163div\").style.display = \"block\";document.getElementById(\"L1897684163divhidden\").style.display = \"none\";document.getElementById(\"L1897684163divshown\").style.display = \"block\";}}\\n-->\\n</script>\\n<div id=\"L1897684163div\" name=\"L1897684163div\" style=\"display: none\"><table cellpadding=\"3\" style=\"position:relative;top:-5px;left:-5px\"><tr><td valign=\"top\"><a href=\"/geo/query/acc.cgi?acc=GSM993610\" onmouseout=\"onLinkOut(\\'HelpMessage\\' , geo_empty_help)\" onmouseover=\"onLinkOver(\\'HelpMessage\\' , geoaxema_recenter)\">GSM993610</a></td>\\n<td valign=\"top\">LC_C4</td>\\n</tr>\\n<tr><td valign=\"top\"><a href=\"/geo/query/acc.cgi?acc=GSM993611\" onmouseout=\"onLinkOut(\\'HelpMessage\\' , geo_empty_help)\" onmouseover=\"onLinkOver(\\'HelpMessage\\' , geoaxema_recenter)\">GSM993611</a></td>\\n<td valign=\"top\">LC_C5</td>\\n</tr>\\n<tr><td valign=\"top\"><a href=\"/geo/query/acc.cgi?acc=GSM993612\" onmouseout=\"onLinkOut(\\'HelpMessage\\' , geo_empty_help)\" onmouseover=\"onLinkOver(\\'HelpMessage\\' , geoaxema_recenter)\">GSM993612</a></td>\\n<td valign=\"top\">LC_C6</td>\\n</tr>\\n<tr><td valign=\"top\"><a href=\"/geo/query/acc.cgi?acc=GSM993613\" onmouseout=\"onLinkOut(\\'HelpMessage\\' , geo_empty_help)\" onmouseover=\"onLinkOver(\\'HelpMessage\\' , geoaxema_recenter)\">GSM993613</a></td>\\n<td valign=\"top\">LC_C7</td>\\n</tr>\\n<tr><td valign=\"top\"><a href=\"/geo/query/acc.cgi?acc=GSM993614\" onmouseout=\"onLinkOut(\\'HelpMessage\\' , geo_empty_help)\" onmouseover=\"onLinkOver(\\'HelpMessage\\' , geoaxema_recenter)\">GSM993614</a></td>\\n<td valign=\"top\">LC_C8</td>\\n</tr>\\n<tr><td valign=\"top\"><a href=\"/geo/query/acc.cgi?acc=GSM993616\" onmouseout=\"onLinkOut(\\'HelpMessage\\' , geo_empty_help)\" onmouseover=\"onLinkOver(\\'HelpMessage\\' , geoaxema_recenter)\">GSM993616</a></td>\\n<td valign=\"top\">LC_C9</td>\\n</tr>\\n<tr><td valign=\"top\"><a href=\"/geo/query/acc.cgi?acc=GSM993617\" onmouseout=\"onLinkOut(\\'HelpMessage\\' , geo_empty_help)\" onmouseover=\"onLinkOver(\\'HelpMessage\\' , geoaxema_recenter)\">GSM993617</a></td>\\n<td valign=\"top\">LC_C10</td>\\n</tr>\\n<tr><td valign=\"top\"><a href=\"/geo/query/acc.cgi?acc=GSM993618\" onmouseout=\"onLinkOut(\\'HelpMessage\\' , geo_empty_help)\" onmouseover=\"onLinkOver(\\'HelpMessage\\' , geoaxema_recenter)\">GSM993618</a></td>\\n<td valign=\"top\">LC_C11</td>\\n</tr>\\n<tr><td valign=\"top\"><a href=\"/geo/query/acc.cgi?acc=GSM993619\" onmouseout=\"onLinkOut(\\'HelpMessage\\' , geo_empty_help)\" onmouseover=\"onLinkOver(\\'HelpMessage\\' , geoaxema_recenter)\">GSM993619</a></td>\\n<td valign=\"top\">LC_C12</td>\\n</tr>\\n<tr><td valign=\"top\"><a href=\"/geo/query/acc.cgi?acc=GSM993620\" onmouseout=\"onLinkOut(\\'HelpMessage\\' , geo_empty_help)\" onmouseover=\"onLinkOver(\\'HelpMessage\\' , geoaxema_recenter)\">GSM993620</a></td>\\n<td valign=\"top\">LC_C13</td>\\n</tr>\\n<tr><td valign=\"top\"><a href=\"/geo/query/acc.cgi?acc=GSM993621\" onmouseout=\"onLinkOut(\\'HelpMessage\\' , geo_empty_help)\" onmouseover=\"onLinkOver(\\'HelpMessage\\' , geoaxema_recenter)\">GSM993621</a></td>\\n<td valign=\"top\">LC_C14</td>\\n</tr>\\n<tr><td valign=\"top\"><a href=\"/geo/query/acc.cgi?acc=GSM993622\" onmouseout=\"onLinkOut(\\'HelpMessage\\' , geo_empty_help)\" onmouseover=\"onLinkOver(\\'HelpMessage\\' , geoaxema_recenter)\">GSM993622</a></td>\\n<td valign=\"top\">LC_C15</td>\\n</tr>\\n<tr><td valign=\"top\"><a href=\"/geo/query/acc.cgi?acc=GSM993623\" onmouseout=\"onLinkOut(\\'HelpMessage\\' , geo_empty_help)\" onmouseover=\"onLinkOver(\\'HelpMessage\\' , geoaxema_recenter)\">GSM993623</a></td>\\n<td valign=\"top\">LC_C16</td>\\n</tr>\\n<tr><td valign=\"top\"><a href=\"/geo/query/acc.cgi?acc=GSM993624\" onmouseout=\"onLinkOut(\\'HelpMessage\\' , geo_empty_help)\" onmouseover=\"onLinkOver(\\'HelpMessage\\' , geoaxema_recenter)\">GSM993624</a></td>\\n<td valign=\"top\">LC_C17</td>\\n</tr>\\n<tr><td valign=\"top\"><a href=\"/geo/query/acc.cgi?acc=GSM993625\" onmouseout=\"onLinkOut(\\'HelpMessage\\' , geo_empty_help)\" onmouseover=\"onLinkOver(\\'HelpMessage\\' , geoaxema_recenter)\">GSM993625</a></td>\\n<td valign=\"top\">LC_C18</td>\\n</tr>\\n<tr><td valign=\"top\"><a href=\"/geo/query/acc.cgi?acc=GSM993626\" onmouseout=\"onLinkOut(\\'HelpMessage\\' , geo_empty_help)\" onmouseover=\"onLinkOver(\\'HelpMessage\\' , geoaxema_recenter)\">GSM993626</a></td>\\n<td valign=\"top\">LC_C19</td>\\n</tr>\\n<tr><td valign=\"top\"><a href=\"/geo/query/acc.cgi?acc=GSM993627\" onmouseout=\"onLinkOut(\\'HelpMessage\\' , geo_empty_help)\" onmouseover=\"onLinkOver(\\'HelpMessage\\' , geoaxema_recenter)\">GSM993627</a></td>\\n<td valign=\"top\">LC_C20</td>\\n</tr>\\n<tr><td valign=\"top\"><a href=\"/geo/query/acc.cgi?acc=GSM993628\" onmouseout=\"onLinkOut(\\'HelpMessage\\' , geo_empty_help)\" onmouseover=\"onLinkOver(\\'HelpMessage\\' , geoaxema_recenter)\">GSM993628</a></td>\\n<td valign=\"top\">LC_C21</td>\\n</tr>\\n<tr><td valign=\"top\"><a href=\"/geo/query/acc.cgi?acc=GSM993629\" onmouseout=\"onLinkOut(\\'HelpMessage\\' , geo_empty_help)\" onmouseover=\"onLinkOver(\\'HelpMessage\\' , geoaxema_recenter)\">GSM993629</a></td>\\n<td valign=\"top\">LC_C22</td>\\n</tr>\\n<tr><td valign=\"top\"><a href=\"/geo/query/acc.cgi?acc=GSM993630\" onmouseout=\"onLinkOut(\\'HelpMessage\\' , geo_empty_help)\" onmouseover=\"onLinkOver(\\'HelpMessage\\' , geoaxema_recenter)\">GSM993630</a></td>\\n<td valign=\"top\">LC_C23</td>\\n</tr>\\n<tr><td valign=\"top\"><a href=\"/geo/query/acc.cgi?acc=GSM993631\" onmouseout=\"onLinkOut(\\'HelpMessage\\' , geo_empty_help)\" onmouseover=\"onLinkOver(\\'HelpMessage\\' , geoaxema_recenter)\">GSM993631</a></td>\\n<td valign=\"top\">LC_C24</td>\\n</tr>\\n<tr><td valign=\"top\"><a href=\"/geo/query/acc.cgi?acc=GSM993632\" onmouseout=\"onLinkOut(\\'HelpMessage\\' , geo_empty_help)\" onmouseover=\"onLinkOver(\\'HelpMessage\\' , geoaxema_recenter)\">GSM993632</a></td>\\n<td valign=\"top\">LC_C25</td>\\n</tr>\\n<tr><td valign=\"top\"><a href=\"/geo/query/acc.cgi?acc=GSM993633\" onmouseout=\"onLinkOut(\\'HelpMessage\\' , geo_empty_help)\" onmouseover=\"onLinkOver(\\'HelpMessage\\' , geoaxema_recenter)\">GSM993633</a></td>\\n<td valign=\"top\">LC_C26</td>\\n</tr>\\n<tr><td valign=\"top\"><a href=\"/geo/query/acc.cgi?acc=GSM993634\" onmouseout=\"onLinkOut(\\'HelpMessage\\' , geo_empty_help)\" onmouseover=\"onLinkOver(\\'HelpMessage\\' , geoaxema_recenter)\">GSM993634</a></td>\\n<td valign=\"top\">LC_C27</td>\\n</tr>\\n<tr><td valign=\"top\"><a href=\"/geo/query/acc.cgi?acc=GSM993635\" onmouseout=\"onLinkOut(\\'HelpMessage\\' , geo_empty_help)\" onmouseover=\"onLinkOver(\\'HelpMessage\\' , geoaxema_recenter)\">GSM993635</a></td>\\n<td valign=\"top\">LC_C28</td>\\n</tr>\\n<tr><td valign=\"top\"><a href=\"/geo/query/acc.cgi?acc=GSM993636\" onmouseout=\"onLinkOut(\\'HelpMessage\\' , geo_empty_help)\" onmouseover=\"onLinkOver(\\'HelpMessage\\' , geoaxema_recenter)\">GSM993636</a></td>\\n<td valign=\"top\">LC_C29</td>\\n</tr>\\n<tr><td valign=\"top\"><a href=\"/geo/query/acc.cgi?acc=GSM993637\" onmouseout=\"onLinkOut(\\'HelpMessage\\' , geo_empty_help)\" onmouseover=\"onLinkOver(\\'HelpMessage\\' , geoaxema_recenter)\">GSM993637</a></td>\\n<td valign=\"top\">LC_C30</td>\\n</tr>\\n<tr><td valign=\"top\"><a href=\"/geo/query/acc.cgi?acc=GSM993638\" onmouseout=\"onLinkOut(\\'HelpMessage\\' , geo_empty_help)\" onmouseover=\"onLinkOver(\\'HelpMessage\\' , geoaxema_recenter)\">GSM993638</a></td>\\n<td valign=\"top\">LC_C31</td>\\n</tr>\\n<tr><td valign=\"top\"><a href=\"/geo/query/acc.cgi?acc=GSM993639\" onmouseout=\"onLinkOut(\\'HelpMessage\\' , geo_empty_help)\" onmouseover=\"onLinkOver(\\'HelpMessage\\' , geoaxema_recenter)\">GSM993639</a></td>\\n<td valign=\"top\">LC_C32</td>\\n</tr>\\n<tr><td valign=\"top\"><a href=\"/geo/query/acc.cgi?acc=GSM993640\" onmouseout=\"onLinkOut(\\'HelpMessage\\' , geo_empty_help)\" onmouseover=\"onLinkOver(\\'HelpMessage\\' , geoaxema_recenter)\">GSM993640</a></td>\\n<td valign=\"top\">LC_C33</td>\\n</tr>\\n<tr><td valign=\"top\"><a href=\"/geo/query/acc.cgi?acc=GSM993641\" onmouseout=\"onLinkOut(\\'HelpMessage\\' , geo_empty_help)\" onmouseover=\"onLinkOver(\\'HelpMessage\\' , geoaxema_recenter)\">GSM993641</a></td>\\n<td valign=\"top\">LC_C34</td>\\n</tr>\\n<tr><td valign=\"top\"><a href=\"/geo/query/acc.cgi?acc=GSM993642\" onmouseout=\"onLinkOut(\\'HelpMessage\\' , geo_empty_help)\" onmouseover=\"onLinkOver(\\'HelpMessage\\' , geoaxema_recenter)\">GSM993642</a></td>\\n<td valign=\"top\">LC_C35</td>\\n</tr>\\n<tr><td valign=\"top\"><a href=\"/geo/query/acc.cgi?acc=GSM993643\" onmouseout=\"onLinkOut(\\'HelpMessage\\' , geo_empty_help)\" onmouseover=\"onLinkOver(\\'HelpMessage\\' , geoaxema_recenter)\">GSM993643</a></td>\\n<td valign=\"top\">LC_C36</td>\\n</tr>\\n<tr><td valign=\"top\"><a href=\"/geo/query/acc.cgi?acc=GSM993644\" onmouseout=\"onLinkOut(\\'HelpMessage\\' , geo_empty_help)\" onmouseover=\"onLinkOver(\\'HelpMessage\\' , geoaxema_recenter)\">GSM993644</a></td>\\n<td valign=\"top\">LC_S1</td>\\n</tr>\\n<tr><td valign=\"top\"><a href=\"/geo/query/acc.cgi?acc=GSM993645\" onmouseout=\"onLinkOut(\\'HelpMessage\\' , geo_empty_help)\" onmouseover=\"onLinkOver(\\'HelpMessage\\' , geoaxema_recenter)\">GSM993645</a></td>\\n<td valign=\"top\">LC_S2</td>\\n</tr>\\n<tr><td valign=\"top\"><a href=\"/geo/query/acc.cgi?acc=GSM993646\" onmouseout=\"onLinkOut(\\'HelpMessage\\' , geo_empty_help)\" onmouseover=\"onLinkOver(\\'HelpMessage\\' , geoaxema_recenter)\">GSM993646</a></td>\\n<td valign=\"top\">LC_S3</td>\\n</tr>\\n<tr><td valign=\"top\"><a href=\"/geo/query/acc.cgi?acc=GSM993647\" onmouseout=\"onLinkOut(\\'HelpMessage\\' , geo_empty_help)\" onmouseover=\"onLinkOver(\\'HelpMessage\\' , geoaxema_recenter)\">GSM993647</a></td>\\n<td valign=\"top\">LC_S4</td>\\n</tr>\\n<tr><td valign=\"top\"><a href=\"/geo/query/acc.cgi?acc=GSM993648\" onmouseout=\"onLinkOut(\\'HelpMessage\\' , geo_empty_help)\" onmouseover=\"onLinkOver(\\'HelpMessage\\' , geoaxema_recenter)\">GSM993648</a></td>\\n<td valign=\"top\">LC_S5</td>\\n</tr>\\n<tr><td valign=\"top\"><a href=\"/geo/query/acc.cgi?acc=GSM993649\" onmouseout=\"onLinkOut(\\'HelpMessage\\' , geo_empty_help)\" onmouseover=\"onLinkOver(\\'HelpMessage\\' , geoaxema_recenter)\">GSM993649</a></td>\\n<td valign=\"top\">LC_S6</td>\\n</tr>\\n<tr><td valign=\"top\"><a href=\"/geo/query/acc.cgi?acc=GSM993650\" onmouseout=\"onLinkOut(\\'HelpMessage\\' , geo_empty_help)\" onmouseover=\"onLinkOver(\\'HelpMessage\\' , geoaxema_recenter)\">GSM993650</a></td>\\n<td valign=\"top\">LC_S8</td>\\n</tr>\\n<tr><td valign=\"top\"><a href=\"/geo/query/acc.cgi?acc=GSM993651\" onmouseout=\"onLinkOut(\\'HelpMessage\\' , geo_empty_help)\" onmouseover=\"onLinkOver(\\'HelpMessage\\' , geoaxema_recenter)\">GSM993651</a></td>\\n<td valign=\"top\">LC_S9</td>\\n</tr>\\n<tr><td valign=\"top\"><a href=\"/geo/query/acc.cgi?acc=GSM993652\" onmouseout=\"onLinkOut(\\'HelpMessage\\' , geo_empty_help)\" onmouseover=\"onLinkOver(\\'HelpMessage\\' , geoaxema_recenter)\">GSM993652</a></td>\\n<td valign=\"top\">LC_S10</td>\\n</tr>\\n<tr><td valign=\"top\"><a href=\"/geo/query/acc.cgi?acc=GSM993653\" onmouseout=\"onLinkOut(\\'HelpMessage\\' , geo_empty_help)\" onmouseover=\"onLinkOver(\\'HelpMessage\\' , geoaxema_recenter)\">GSM993653</a></td>\\n<td valign=\"top\">LC_S11</td>\\n</tr>\\n<tr><td valign=\"top\"><a href=\"/geo/query/acc.cgi?acc=GSM993654\" onmouseout=\"onLinkOut(\\'HelpMessage\\' , geo_empty_help)\" onmouseover=\"onLinkOver(\\'HelpMessage\\' , geoaxema_recenter)\">GSM993654</a></td>\\n<td valign=\"top\">LC_S12</td>\\n</tr>\\n<tr><td valign=\"top\"><a href=\"/geo/query/acc.cgi?acc=GSM993655\" onmouseout=\"onLinkOut(\\'HelpMessage\\' , geo_empty_help)\" onmouseover=\"onLinkOver(\\'HelpMessage\\' , geoaxema_recenter)\">GSM993655</a></td>\\n<td valign=\"top\">LC_S13</td>\\n</tr>\\n<tr><td valign=\"top\"><a href=\"/geo/query/acc.cgi?acc=GSM993656\" onmouseout=\"onLinkOut(\\'HelpMessage\\' , geo_empty_help)\" onmouseover=\"onLinkOver(\\'HelpMessage\\' , geoaxema_recenter)\">GSM993656</a></td>\\n<td valign=\"top\">LC_S14</td>\\n</tr>\\n<tr><td valign=\"top\"><a href=\"/geo/query/acc.cgi?acc=GSM993657\" onmouseout=\"onLinkOut(\\'HelpMessage\\' , geo_empty_help)\" onmouseover=\"onLinkOver(\\'HelpMessage\\' , geoaxema_recenter)\">GSM993657</a></td>\\n<td valign=\"top\">LC_S15</td>\\n</tr>\\n<tr><td valign=\"top\"><a href=\"/geo/query/acc.cgi?acc=GSM993658\" onmouseout=\"onLinkOut(\\'HelpMessage\\' , geo_empty_help)\" onmouseover=\"onLinkOver(\\'HelpMessage\\' , geoaxema_recenter)\">GSM993658</a></td>\\n<td valign=\"top\">LC_S16</td>\\n</tr>\\n<tr><td valign=\"top\"><a href=\"/geo/query/acc.cgi?acc=GSM993659\" onmouseout=\"onLinkOut(\\'HelpMessage\\' , geo_empty_help)\" onmouseover=\"onLinkOver(\\'HelpMessage\\' , geoaxema_recenter)\">GSM993659</a></td>\\n<td valign=\"top\">LC_S17</td>\\n</tr>\\n<tr><td valign=\"top\"><a href=\"/geo/query/acc.cgi?acc=GSM993660\" onmouseout=\"onLinkOut(\\'HelpMessage\\' , geo_empty_help)\" onmouseover=\"onLinkOver(\\'HelpMessage\\' , geoaxema_recenter)\">GSM993660</a></td>\\n<td valign=\"top\">LC_S18</td>\\n</tr>\\n<tr><td valign=\"top\"><a href=\"/geo/query/acc.cgi?acc=GSM993661\" onmouseout=\"onLinkOut(\\'HelpMessage\\' , geo_empty_help)\" onmouseover=\"onLinkOver(\\'HelpMessage\\' , geoaxema_recenter)\">GSM993661</a></td>\\n<td valign=\"top\">LC_S19</td>\\n</tr>\\n<tr><td valign=\"top\"><a href=\"/geo/query/acc.cgi?acc=GSM993662\" onmouseout=\"onLinkOut(\\'HelpMessage\\' , geo_empty_help)\" onmouseover=\"onLinkOver(\\'HelpMessage\\' , geoaxema_recenter)\">GSM993662</a></td>\\n<td valign=\"top\">LC_S20</td>\\n</tr>\\n<tr><td valign=\"top\"><a href=\"/geo/query/acc.cgi?acc=GSM993663\" onmouseout=\"onLinkOut(\\'HelpMessage\\' , geo_empty_help)\" onmouseover=\"onLinkOver(\\'HelpMessage\\' , geoaxema_recenter)\">GSM993663</a></td>\\n<td valign=\"top\">LC_S21</td>\\n</tr>\\n<tr><td valign=\"top\"><a href=\"/geo/query/acc.cgi?acc=GSM993664\" onmouseout=\"onLinkOut(\\'HelpMessage\\' , geo_empty_help)\" onmouseover=\"onLinkOver(\\'HelpMessage\\' , geoaxema_recenter)\">GSM993664</a></td>\\n<td valign=\"top\">LC_S22</td>\\n</tr>\\n<tr><td valign=\"top\"><a href=\"/geo/query/acc.cgi?acc=GSM993665\" onmouseout=\"onLinkOut(\\'HelpMessage\\' , geo_empty_help)\" onmouseover=\"onLinkOver(\\'HelpMessage\\' , geoaxema_recenter)\">GSM993665</a></td>\\n<td valign=\"top\">LC_S23</td>\\n</tr>\\n<tr><td valign=\"top\"><a href=\"/geo/query/acc.cgi?acc=GSM993666\" onmouseout=\"onLinkOut(\\'HelpMessage\\' , geo_empty_help)\" onmouseover=\"onLinkOver(\\'HelpMessage\\' , geoaxema_recenter)\">GSM993666</a></td>\\n<td valign=\"top\">LC_S24</td>\\n</tr>\\n<tr><td valign=\"top\"><a href=\"/geo/query/acc.cgi?acc=GSM993667\" onmouseout=\"onLinkOut(\\'HelpMessage\\' , geo_empty_help)\" onmouseover=\"onLinkOver(\\'HelpMessage\\' , geoaxema_recenter)\">GSM993667</a></td>\\n<td valign=\"top\">LC_S25</td>\\n</tr>\\n<tr><td valign=\"top\"><a href=\"/geo/query/acc.cgi?acc=GSM993668\" onmouseout=\"onLinkOut(\\'HelpMessage\\' , geo_empty_help)\" onmouseover=\"onLinkOver(\\'HelpMessage\\' , geoaxema_recenter)\">GSM993668</a></td>\\n<td valign=\"top\">LC_S26</td>\\n</tr>\\n<tr><td valign=\"top\"><a href=\"/geo/query/acc.cgi?acc=GSM993669\" onmouseout=\"onLinkOut(\\'HelpMessage\\' , geo_empty_help)\" onmouseover=\"onLinkOver(\\'HelpMessage\\' , geoaxema_recenter)\">GSM993669</a></td>\\n<td valign=\"top\">LC_S27</td>\\n</tr>\\n<tr><td valign=\"top\"><a href=\"/geo/query/acc.cgi?acc=GSM993670\" onmouseout=\"onLinkOut(\\'HelpMessage\\' , geo_empty_help)\" onmouseover=\"onLinkOver(\\'HelpMessage\\' , geoaxema_recenter)\">GSM993670</a></td>\\n<td valign=\"top\">LC_S28</td>\\n</tr>\\n<tr><td valign=\"top\"><a href=\"/geo/query/acc.cgi?acc=GSM993671\" onmouseout=\"onLinkOut(\\'HelpMessage\\' , geo_empty_help)\" onmouseover=\"onLinkOver(\\'HelpMessage\\' , geoaxema_recenter)\">GSM993671</a></td>\\n<td valign=\"top\">LC_S29</td>\\n</tr>\\n<tr><td valign=\"top\"><a href=\"/geo/query/acc.cgi?acc=GSM993672\" onmouseout=\"onLinkOut(\\'HelpMessage\\' , geo_empty_help)\" onmouseover=\"onLinkOver(\\'HelpMessage\\' , geoaxema_recenter)\">GSM993672</a></td>\\n<td valign=\"top\">LC_S30</td>\\n</tr>\\n<tr><td valign=\"top\"><a href=\"/geo/query/acc.cgi?acc=GSM993673\" onmouseout=\"onLinkOut(\\'HelpMessage\\' , geo_empty_help)\" onmouseover=\"onLinkOver(\\'HelpMessage\\' , geoaxema_recenter)\">GSM993673</a></td>\\n<td valign=\"top\">LC_S31</td>\\n</tr>\\n<tr><td valign=\"top\"><a href=\"/geo/query/acc.cgi?acc=GSM993674\" onmouseout=\"onLinkOut(\\'HelpMessage\\' , geo_empty_help)\" onmouseover=\"onLinkOver(\\'HelpMessage\\' , geoaxema_recenter)\">GSM993674</a></td>\\n<td valign=\"top\">LC_S32</td>\\n</tr>\\n<tr><td valign=\"top\"><a href=\"/geo/query/acc.cgi?acc=GSM993675\" onmouseout=\"onLinkOut(\\'HelpMessage\\' , geo_empty_help)\" onmouseover=\"onLinkOver(\\'HelpMessage\\' , geoaxema_recenter)\">GSM993675</a></td>\\n<td valign=\"top\">LC_S33</td>\\n</tr>\\n<tr><td valign=\"top\"><a href=\"/geo/query/acc.cgi?acc=GSM993676\" onmouseout=\"onLinkOut(\\'HelpMessage\\' , geo_empty_help)\" onmouseover=\"onLinkOver(\\'HelpMessage\\' , geoaxema_recenter)\">GSM993676</a></td>\\n<td valign=\"top\">LC_S34</td>\\n</tr>\\n<tr><td valign=\"top\"><a href=\"/geo/query/acc.cgi?acc=GSM993677\" onmouseout=\"onLinkOut(\\'HelpMessage\\' , geo_empty_help)\" onmouseover=\"onLinkOver(\\'HelpMessage\\' , geoaxema_recenter)\">GSM993677</a></td>\\n<td valign=\"top\">LC_S35</td>\\n</tr>\\n<tr><td valign=\"top\"><a href=\"/geo/query/acc.cgi?acc=GSM993678\" onmouseout=\"onLinkOut(\\'HelpMessage\\' , geo_empty_help)\" onmouseover=\"onLinkOver(\\'HelpMessage\\' , geoaxema_recenter)\">GSM993678</a></td>\\n<td valign=\"top\">LC_S36</td>\\n</tr>\\n<tr><td valign=\"top\"><a href=\"/geo/query/acc.cgi?acc=GSM993679\" onmouseout=\"onLinkOut(\\'HelpMessage\\' , geo_empty_help)\" onmouseover=\"onLinkOver(\\'HelpMessage\\' , geoaxema_recenter)\">GSM993679</a></td>\\n<td valign=\"top\">LC_S37</td>\\n</tr>\\n<tr><td valign=\"top\"><a href=\"/geo/query/acc.cgi?acc=GSM993680\" onmouseout=\"onLinkOut(\\'HelpMessage\\' , geo_empty_help)\" onmouseover=\"onLinkOver(\\'HelpMessage\\' , geoaxema_recenter)\">GSM993680</a></td>\\n<td valign=\"top\">LC_S38</td>\\n</tr>\\n<tr><td valign=\"top\"><a href=\"/geo/query/acc.cgi?acc=GSM993681\" onmouseout=\"onLinkOut(\\'HelpMessage\\' , geo_empty_help)\" onmouseover=\"onLinkOver(\\'HelpMessage\\' , geoaxema_recenter)\">GSM993681</a></td>\\n<td valign=\"top\">LC_S39</td>\\n</tr>\\n<tr><td valign=\"top\"><a href=\"/geo/query/acc.cgi?acc=GSM993682\" onmouseout=\"onLinkOut(\\'HelpMessage\\' , geo_empty_help)\" onmouseover=\"onLinkOver(\\'HelpMessage\\' , geoaxema_recenter)\">GSM993682</a></td>\\n<td valign=\"top\">LC_S40</td>\\n</tr>\\n<tr><td valign=\"top\"><a href=\"/geo/query/acc.cgi?acc=GSM993683\" onmouseout=\"onLinkOut(\\'HelpMessage\\' , geo_empty_help)\" onmouseover=\"onLinkOver(\\'HelpMessage\\' , geoaxema_recenter)\">GSM993683</a></td>\\n<td valign=\"top\">LC_S41</td>\\n</tr>\\n<tr><td valign=\"top\"><a href=\"/geo/query/acc.cgi?acc=GSM993684\" onmouseout=\"onLinkOut(\\'HelpMessage\\' , geo_empty_help)\" onmouseover=\"onLinkOver(\\'HelpMessage\\' , geoaxema_recenter)\">GSM993684</a></td>\\n<td valign=\"top\">LC_S42</td>\\n</tr>\\n<tr><td valign=\"top\"><a href=\"/geo/query/acc.cgi?acc=GSM993685\" onmouseout=\"onLinkOut(\\'HelpMessage\\' , geo_empty_help)\" onmouseover=\"onLinkOver(\\'HelpMessage\\' , geoaxema_recenter)\">GSM993685</a></td>\\n<td valign=\"top\">LC_S43</td>\\n</tr>\\n<tr><td valign=\"top\"><a href=\"/geo/query/acc.cgi?acc=GSM993686\" onmouseout=\"onLinkOut(\\'HelpMessage\\' , geo_empty_help)\" onmouseover=\"onLinkOver(\\'HelpMessage\\' , geoaxema_recenter)\">GSM993686</a></td>\\n<td valign=\"top\">LC_S44</td>\\n</tr>\\n<tr><td valign=\"top\"><a href=\"/geo/query/acc.cgi?acc=GSM993687\" onmouseout=\"onLinkOut(\\'HelpMessage\\' , geo_empty_help)\" onmouseover=\"onLinkOver(\\'HelpMessage\\' , geoaxema_recenter)\">GSM993687</a></td>\\n<td valign=\"top\">LC_S45</td>\\n</tr>\\n<tr><td valign=\"top\"><a href=\"/geo/query/acc.cgi?acc=GSM993688\" onmouseout=\"onLinkOut(\\'HelpMessage\\' , geo_empty_help)\" onmouseover=\"onLinkOver(\\'HelpMessage\\' , geoaxema_recenter)\">GSM993688</a></td>\\n<td valign=\"top\">LC_S46</td>\\n</tr>\\n<tr><td valign=\"top\"><a href=\"/geo/query/acc.cgi?acc=GSM993689\" onmouseout=\"onLinkOut(\\'HelpMessage\\' , geo_empty_help)\" onmouseover=\"onLinkOver(\\'HelpMessage\\' , geoaxema_recenter)\">GSM993689</a></td>\\n<td valign=\"top\">LC_S47</td>\\n</tr>\\n<tr><td valign=\"top\"><a href=\"/geo/query/acc.cgi?acc=GSM993690\" onmouseout=\"onLinkOut(\\'HelpMessage\\' , geo_empty_help)\" onmouseover=\"onLinkOver(\\'HelpMessage\\' , geoaxema_recenter)\">GSM993690</a></td>\\n<td valign=\"top\">LC_S48</td>\\n</tr>\\n<tr><td valign=\"top\"><a href=\"/geo/query/acc.cgi?acc=GSM993691\" onmouseout=\"onLinkOut(\\'HelpMessage\\' , geo_empty_help)\" onmouseover=\"onLinkOver(\\'HelpMessage\\' , geoaxema_recenter)\">GSM993691</a></td>\\n<td valign=\"top\">LC_S49</td>\\n</tr>\\n<tr><td valign=\"top\"><a href=\"/geo/query/acc.cgi?acc=GSM993692\" onmouseout=\"onLinkOut(\\'HelpMessage\\' , geo_empty_help)\" onmouseover=\"onLinkOver(\\'HelpMessage\\' , geoaxema_recenter)\">GSM993692</a></td>\\n<td valign=\"top\">LC_S50</td>\\n</tr>\\n<tr><td valign=\"top\"><a href=\"/geo/query/acc.cgi?acc=GSM993693\" onmouseout=\"onLinkOut(\\'HelpMessage\\' , geo_empty_help)\" onmouseover=\"onLinkOver(\\'HelpMessage\\' , geoaxema_recenter)\">GSM993693</a></td>\\n<td valign=\"top\">LC_S51</td>\\n</tr>\\n<tr><td valign=\"top\"><a href=\"/geo/query/acc.cgi?acc=GSM993694\" onmouseout=\"onLinkOut(\\'HelpMessage\\' , geo_empty_help)\" onmouseover=\"onLinkOver(\\'HelpMessage\\' , geoaxema_recenter)\">GSM993694</a></td>\\n<td valign=\"top\">LC_S52</td>\\n</tr>\\n<tr><td valign=\"top\"><a href=\"/geo/query/acc.cgi?acc=GSM993695\" onmouseout=\"onLinkOut(\\'HelpMessage\\' , geo_empty_help)\" onmouseover=\"onLinkOver(\\'HelpMessage\\' , geoaxema_recenter)\">GSM993695</a></td>\\n<td valign=\"top\">LC_C1_nor</td>\\n</tr>\\n<tr><td valign=\"top\"><a href=\"/geo/query/acc.cgi?acc=GSM993696\" onmouseout=\"onLinkOut(\\'HelpMessage\\' , geo_empty_help)\" onmouseover=\"onLinkOver(\\'HelpMessage\\' , geoaxema_recenter)\">GSM993696</a></td>\\n<td valign=\"top\">LC_C2_nor</td>\\n</tr>\\n<tr><td valign=\"top\"><a href=\"/geo/query/acc.cgi?acc=GSM993697\" onmouseout=\"onLinkOut(\\'HelpMessage\\' , geo_empty_help)\" onmouseover=\"onLinkOver(\\'HelpMessage\\' , geoaxema_recenter)\">GSM993697</a></td>\\n<td valign=\"top\">LC_C3_nor</td>\\n</tr>\\n<tr><td valign=\"top\"><a href=\"/geo/query/acc.cgi?acc=GSM993698\" onmouseout=\"onLinkOut(\\'HelpMessage\\' , geo_empty_help)\" onmouseover=\"onLinkOver(\\'HelpMessage\\' , geoaxema_recenter)\">GSM993698</a></td>\\n<td valign=\"top\">LC_C5_nor</td>\\n</tr>\\n<tr><td valign=\"top\"><a href=\"/geo/query/acc.cgi?acc=GSM993699\" onmouseout=\"onLinkOut(\\'HelpMessage\\' , geo_empty_help)\" onmouseover=\"onLinkOver(\\'HelpMessage\\' , geoaxema_recenter)\">GSM993699</a></td>\\n<td valign=\"top\">LC_C7_nor</td>\\n</tr>\\n<tr><td valign=\"top\"><a href=\"/geo/query/acc.cgi?acc=GSM993700\" onmouseout=\"onLinkOut(\\'HelpMessage\\' , geo_empty_help)\" onmouseover=\"onLinkOver(\\'HelpMessage\\' , geoaxema_recenter)\">GSM993700</a></td>\\n<td valign=\"top\">LC_C9_nor</td>\\n</tr>\\n<tr><td valign=\"top\"><a href=\"/geo/query/acc.cgi?acc=GSM993701\" onmouseout=\"onLinkOut(\\'HelpMessage\\' , geo_empty_help)\" onmouseover=\"onLinkOver(\\'HelpMessage\\' , geoaxema_recenter)\">GSM993701</a></td>\\n<td valign=\"top\">LC_C10_nor</td>\\n</tr>\\n<tr><td valign=\"top\"><a href=\"/geo/query/acc.cgi?acc=GSM993702\" onmouseout=\"onLinkOut(\\'HelpMessage\\' , geo_empty_help)\" onmouseover=\"onLinkOver(\\'HelpMessage\\' , geoaxema_recenter)\">GSM993702</a></td>\\n<td valign=\"top\">LC_C11_nor</td>\\n</tr>\\n<tr><td valign=\"top\"><a href=\"/geo/query/acc.cgi?acc=GSM993703\" onmouseout=\"onLinkOut(\\'HelpMessage\\' , geo_empty_help)\" onmouseover=\"onLinkOver(\\'HelpMessage\\' , geoaxema_recenter)\">GSM993703</a></td>\\n<td valign=\"top\">LC_C12_nor</td>\\n</tr>\\n<tr><td valign=\"top\"><a href=\"/geo/query/acc.cgi?acc=GSM993704\" onmouseout=\"onLinkOut(\\'HelpMessage\\' , geo_empty_help)\" onmouseover=\"onLinkOver(\\'HelpMessage\\' , geoaxema_recenter)\">GSM993704</a></td>\\n<td valign=\"top\">LC_C14_nor</td>\\n</tr>\\n<tr><td valign=\"top\"><a href=\"/geo/query/acc.cgi?acc=GSM993705\" onmouseout=\"onLinkOut(\\'HelpMessage\\' , geo_empty_help)\" onmouseover=\"onLinkOver(\\'HelpMessage\\' , geoaxema_recenter)\">GSM993705</a></td>\\n<td valign=\"top\">LC_C16_nor</td>\\n</tr>\\n<tr><td valign=\"top\"><a href=\"/geo/query/acc.cgi?acc=GSM993706\" onmouseout=\"onLinkOut(\\'HelpMessage\\' , geo_empty_help)\" onmouseover=\"onLinkOver(\\'HelpMessage\\' , geoaxema_recenter)\">GSM993706</a></td>\\n<td valign=\"top\">LC_C17_nor</td>\\n</tr>\\n<tr><td valign=\"top\"><a href=\"/geo/query/acc.cgi?acc=GSM993707\" onmouseout=\"onLinkOut(\\'HelpMessage\\' , geo_empty_help)\" onmouseover=\"onLinkOver(\\'HelpMessage\\' , geoaxema_recenter)\">GSM993707</a></td>\\n<td valign=\"top\">LC_C18_nor</td>\\n</tr>\\n<tr><td valign=\"top\"><a href=\"/geo/query/acc.cgi?acc=GSM993708\" onmouseout=\"onLinkOut(\\'HelpMessage\\' , geo_empty_help)\" onmouseover=\"onLinkOver(\\'HelpMessage\\' , geoaxema_recenter)\">GSM993708</a></td>\\n<td valign=\"top\">LC_C19_nor</td>\\n</tr>\\n<tr><td valign=\"top\"><a href=\"/geo/query/acc.cgi?acc=GSM993709\" onmouseout=\"onLinkOut(\\'HelpMessage\\' , geo_empty_help)\" onmouseover=\"onLinkOver(\\'HelpMessage\\' , geoaxema_recenter)\">GSM993709</a></td>\\n<td valign=\"top\">LC_C20_nor</td>\\n</tr>\\n<tr><td valign=\"top\"><a href=\"/geo/query/acc.cgi?acc=GSM993710\" onmouseout=\"onLinkOut(\\'HelpMessage\\' , geo_empty_help)\" onmouseover=\"onLinkOver(\\'HelpMessage\\' , geoaxema_recenter)\">GSM993710</a></td>\\n<td valign=\"top\">LC_C21_nor</td>\\n</tr>\\n<tr><td valign=\"top\"><a href=\"/geo/query/acc.cgi?acc=GSM993711\" onmouseout=\"onLinkOut(\\'HelpMessage\\' , geo_empty_help)\" onmouseover=\"onLinkOver(\\'HelpMessage\\' , geoaxema_recenter)\">GSM993711</a></td>\\n<td valign=\"top\">LC_C22_nor</td>\\n</tr>\\n<tr><td valign=\"top\"><a href=\"/geo/query/acc.cgi?acc=GSM993712\" onmouseout=\"onLinkOut(\\'HelpMessage\\' , geo_empty_help)\" onmouseover=\"onLinkOver(\\'HelpMessage\\' , geoaxema_recenter)\">GSM993712</a></td>\\n<td valign=\"top\">LC_C24_nor</td>\\n</tr>\\n<tr><td valign=\"top\"><a href=\"/geo/query/acc.cgi?acc=GSM993713\" onmouseout=\"onLinkOut(\\'HelpMessage\\' , geo_empty_help)\" onmouseover=\"onLinkOver(\\'HelpMessage\\' , geoaxema_recenter)\">GSM993713</a></td>\\n<td valign=\"top\">LC_C25_nor</td>\\n</tr>\\n<tr><td valign=\"top\"><a href=\"/geo/query/acc.cgi?acc=GSM993714\" onmouseout=\"onLinkOut(\\'HelpMessage\\' , geo_empty_help)\" onmouseover=\"onLinkOver(\\'HelpMessage\\' , geoaxema_recenter)\">GSM993714</a></td>\\n<td valign=\"top\">LC_C28_nor</td>\\n</tr>\\n<tr><td valign=\"top\"><a href=\"/geo/query/acc.cgi?acc=GSM993715\" onmouseout=\"onLinkOut(\\'HelpMessage\\' , geo_empty_help)\" onmouseover=\"onLinkOver(\\'HelpMessage\\' , geoaxema_recenter)\">GSM993715</a></td>\\n<td valign=\"top\">LC_C29_nor</td>\\n</tr>\\n<tr><td valign=\"top\"><a href=\"/geo/query/acc.cgi?acc=GSM993716\" onmouseout=\"onLinkOut(\\'HelpMessage\\' , geo_empty_help)\" onmouseover=\"onLinkOver(\\'HelpMessage\\' , geoaxema_recenter)\">GSM993716</a></td>\\n<td valign=\"top\">LC_C30_nor</td>\\n</tr>\\n<tr><td valign=\"top\"><a href=\"/geo/query/acc.cgi?acc=GSM993717\" onmouseout=\"onLinkOut(\\'HelpMessage\\' , geo_empty_help)\" onmouseover=\"onLinkOver(\\'HelpMessage\\' , geoaxema_recenter)\">GSM993717</a></td>\\n<td valign=\"top\">LC_C31_nor</td>\\n</tr>\\n<tr><td valign=\"top\"><a href=\"/geo/query/acc.cgi?acc=GSM993718\" onmouseout=\"onLinkOut(\\'HelpMessage\\' , geo_empty_help)\" onmouseover=\"onLinkOver(\\'HelpMessage\\' , geoaxema_recenter)\">GSM993718</a></td>\\n<td valign=\"top\">LC_C33_nor</td>\\n</tr>\\n<tr><td valign=\"top\"><a href=\"/geo/query/acc.cgi?acc=GSM993719\" onmouseout=\"onLinkOut(\\'HelpMessage\\' , geo_empty_help)\" onmouseover=\"onLinkOver(\\'HelpMessage\\' , geoaxema_recenter)\">GSM993719</a></td>\\n<td valign=\"top\">LC_C34_nor</td>\\n</tr>\\n<tr><td valign=\"top\"><a href=\"/geo/query/acc.cgi?acc=GSM993720\" onmouseout=\"onLinkOut(\\'HelpMessage\\' , geo_empty_help)\" onmouseover=\"onLinkOver(\\'HelpMessage\\' , geoaxema_recenter)\">GSM993720</a></td>\\n<td valign=\"top\">LC_C35_nor</td>\\n</tr>\\n<tr><td valign=\"top\"><a href=\"/geo/query/acc.cgi?acc=GSM993721\" onmouseout=\"onLinkOut(\\'HelpMessage\\' , geo_empty_help)\" onmouseover=\"onLinkOver(\\'HelpMessage\\' , geoaxema_recenter)\">GSM993721</a></td>\\n<td valign=\"top\">LC_C36_nor</td>\\n</tr>\\n<tr><td valign=\"top\"><a href=\"/geo/query/acc.cgi?acc=GSM993722\" onmouseout=\"onLinkOut(\\'HelpMessage\\' , geo_empty_help)\" onmouseover=\"onLinkOver(\\'HelpMessage\\' , geoaxema_recenter)\">GSM993722</a></td>\\n<td valign=\"top\">LC_S1_nor</td>\\n</tr>\\n<tr><td valign=\"top\"><a href=\"/geo/query/acc.cgi?acc=GSM993723\" onmouseout=\"onLinkOut(\\'HelpMessage\\' , geo_empty_help)\" onmouseover=\"onLinkOver(\\'HelpMessage\\' , geoaxema_recenter)\">GSM993723</a></td>\\n<td valign=\"top\">LC_S2_nor</td>\\n</tr>\\n<tr><td valign=\"top\"><a href=\"/geo/query/acc.cgi?acc=GSM993724\" onmouseout=\"onLinkOut(\\'HelpMessage\\' , geo_empty_help)\" onmouseover=\"onLinkOver(\\'HelpMessage\\' , geoaxema_recenter)\">GSM993724</a></td>\\n<td valign=\"top\">LC_S3_nor</td>\\n</tr>\\n<tr><td valign=\"top\"><a href=\"/geo/query/acc.cgi?acc=GSM993725\" onmouseout=\"onLinkOut(\\'HelpMessage\\' , geo_empty_help)\" onmouseover=\"onLinkOver(\\'HelpMessage\\' , geoaxema_recenter)\">GSM993725</a></td>\\n<td valign=\"top\">LC_S4_nor</td>\\n</tr>\\n<tr><td valign=\"top\"><a href=\"/geo/query/acc.cgi?acc=GSM993726\" onmouseout=\"onLinkOut(\\'HelpMessage\\' , geo_empty_help)\" onmouseover=\"onLinkOver(\\'HelpMessage\\' , geoaxema_recenter)\">GSM993726</a></td>\\n<td valign=\"top\">LC_S5_nor</td>\\n</tr>\\n<tr><td valign=\"top\"><a href=\"/geo/query/acc.cgi?acc=GSM993727\" onmouseout=\"onLinkOut(\\'HelpMessage\\' , geo_empty_help)\" onmouseover=\"onLinkOver(\\'HelpMessage\\' , geoaxema_recenter)\">GSM993727</a></td>\\n<td valign=\"top\">LC_S6_nor</td>\\n</tr>\\n<tr><td valign=\"top\"><a href=\"/geo/query/acc.cgi?acc=GSM993728\" onmouseout=\"onLinkOut(\\'HelpMessage\\' , geo_empty_help)\" onmouseover=\"onLinkOver(\\'HelpMessage\\' , geoaxema_recenter)\">GSM993728</a></td>\\n<td valign=\"top\">LC_S8_nor</td>\\n</tr>\\n<tr><td valign=\"top\"><a href=\"/geo/query/acc.cgi?acc=GSM993729\" onmouseout=\"onLinkOut(\\'HelpMessage\\' , geo_empty_help)\" onmouseover=\"onLinkOver(\\'HelpMessage\\' , geoaxema_recenter)\">GSM993729</a></td>\\n<td valign=\"top\">LC_S9_nor</td>\\n</tr>\\n<tr><td valign=\"top\"><a href=\"/geo/query/acc.cgi?acc=GSM993730\" onmouseout=\"onLinkOut(\\'HelpMessage\\' , geo_empty_help)\" onmouseover=\"onLinkOver(\\'HelpMessage\\' , geoaxema_recenter)\">GSM993730</a></td>\\n<td valign=\"top\">LC_S10_nor</td>\\n</tr>\\n<tr><td valign=\"top\"><a href=\"/geo/query/acc.cgi?acc=GSM993731\" onmouseout=\"onLinkOut(\\'HelpMessage\\' , geo_empty_help)\" onmouseover=\"onLinkOver(\\'HelpMessage\\' , geoaxema_recenter)\">GSM993731</a></td>\\n<td valign=\"top\">LC_S11_nor</td>\\n</tr>\\n<tr><td valign=\"top\"><a href=\"/geo/query/acc.cgi?acc=GSM993732\" onmouseout=\"onLinkOut(\\'HelpMessage\\' , geo_empty_help)\" onmouseover=\"onLinkOver(\\'HelpMessage\\' , geoaxema_recenter)\">GSM993732</a></td>\\n<td valign=\"top\">LC_S13_nor</td>\\n</tr>\\n<tr><td valign=\"top\"><a href=\"/geo/query/acc.cgi?acc=GSM993733\" onmouseout=\"onLinkOut(\\'HelpMessage\\' , geo_empty_help)\" onmouseover=\"onLinkOver(\\'HelpMessage\\' , geoaxema_recenter)\">GSM993733</a></td>\\n<td valign=\"top\">LC_S14_nor</td>\\n</tr>\\n<tr><td valign=\"top\"><a href=\"/geo/query/acc.cgi?acc=GSM993734\" onmouseout=\"onLinkOut(\\'HelpMessage\\' , geo_empty_help)\" onmouseover=\"onLinkOver(\\'HelpMessage\\' , geoaxema_recenter)\">GSM993734</a></td>\\n<td valign=\"top\">LC_S15_nor</td>\\n</tr>\\n<tr><td valign=\"top\"><a href=\"/geo/query/acc.cgi?acc=GSM993735\" onmouseout=\"onLinkOut(\\'HelpMessage\\' , geo_empty_help)\" onmouseover=\"onLinkOver(\\'HelpMessage\\' , geoaxema_recenter)\">GSM993735</a></td>\\n<td valign=\"top\">LC_S16_nor</td>\\n</tr>\\n<tr><td valign=\"top\"><a href=\"/geo/query/acc.cgi?acc=GSM993736\" onmouseout=\"onLinkOut(\\'HelpMessage\\' , geo_empty_help)\" onmouseover=\"onLinkOver(\\'HelpMessage\\' , geoaxema_recenter)\">GSM993736</a></td>\\n<td valign=\"top\">LC_S17_nor</td>\\n</tr>\\n<tr><td valign=\"top\"><a href=\"/geo/query/acc.cgi?acc=GSM993737\" onmouseout=\"onLinkOut(\\'HelpMessage\\' , geo_empty_help)\" onmouseover=\"onLinkOver(\\'HelpMessage\\' , geoaxema_recenter)\">GSM993737</a></td>\\n<td valign=\"top\">LC_S18_nor</td>\\n</tr>\\n<tr><td valign=\"top\"><a href=\"/geo/query/acc.cgi?acc=GSM993738\" onmouseout=\"onLinkOut(\\'HelpMessage\\' , geo_empty_help)\" onmouseover=\"onLinkOver(\\'HelpMessage\\' , geoaxema_recenter)\">GSM993738</a></td>\\n<td valign=\"top\">LC_S19_nor</td>\\n</tr>\\n<tr><td valign=\"top\"><a href=\"/geo/query/acc.cgi?acc=GSM993739\" onmouseout=\"onLinkOut(\\'HelpMessage\\' , geo_empty_help)\" onmouseover=\"onLinkOver(\\'HelpMessage\\' , geoaxema_recenter)\">GSM993739</a></td>\\n<td valign=\"top\">LC_S20_nor</td>\\n</tr>\\n<tr><td valign=\"top\"><a href=\"/geo/query/acc.cgi?acc=GSM993740\" onmouseout=\"onLinkOut(\\'HelpMessage\\' , geo_empty_help)\" onmouseover=\"onLinkOver(\\'HelpMessage\\' , geoaxema_recenter)\">GSM993740</a></td>\\n<td valign=\"top\">LC_S21_nor</td>\\n</tr>\\n<tr><td valign=\"top\"><a href=\"/geo/query/acc.cgi?acc=GSM993741\" onmouseout=\"onLinkOut(\\'HelpMessage\\' , geo_empty_help)\" onmouseover=\"onLinkOver(\\'HelpMessage\\' , geoaxema_recenter)\">GSM993741</a></td>\\n<td valign=\"top\">LC_S22_nor</td>\\n</tr>\\n<tr><td valign=\"top\"><a href=\"/geo/query/acc.cgi?acc=GSM993742\" onmouseout=\"onLinkOut(\\'HelpMessage\\' , geo_empty_help)\" onmouseover=\"onLinkOver(\\'HelpMessage\\' , geoaxema_recenter)\">GSM993742</a></td>\\n<td valign=\"top\">LC_S23_nor</td>\\n</tr>\\n<tr><td valign=\"top\"><a href=\"/geo/query/acc.cgi?acc=GSM993743\" onmouseout=\"onLinkOut(\\'HelpMessage\\' , geo_empty_help)\" onmouseover=\"onLinkOver(\\'HelpMessage\\' , geoaxema_recenter)\">GSM993743</a></td>\\n<td valign=\"top\">LC_S24_nor</td>\\n</tr>\\n<tr><td valign=\"top\"><a href=\"/geo/query/acc.cgi?acc=GSM993744\" onmouseout=\"onLinkOut(\\'HelpMessage\\' , geo_empty_help)\" onmouseover=\"onLinkOver(\\'HelpMessage\\' , geoaxema_recenter)\">GSM993744</a></td>\\n<td valign=\"top\">LC_S25_nor</td>\\n</tr>\\n<tr><td valign=\"top\"><a href=\"/geo/query/acc.cgi?acc=GSM993745\" onmouseout=\"onLinkOut(\\'HelpMessage\\' , geo_empty_help)\" onmouseover=\"onLinkOver(\\'HelpMessage\\' , geoaxema_recenter)\">GSM993745</a></td>\\n<td valign=\"top\">LC_S26_nor</td>\\n</tr>\\n<tr><td valign=\"top\"><a href=\"/geo/query/acc.cgi?acc=GSM993746\" onmouseout=\"onLinkOut(\\'HelpMessage\\' , geo_empty_help)\" onmouseover=\"onLinkOver(\\'HelpMessage\\' , geoaxema_recenter)\">GSM993746</a></td>\\n<td valign=\"top\">LC_S27_nor</td>\\n</tr>\\n<tr><td valign=\"top\"><a href=\"/geo/query/acc.cgi?acc=GSM993747\" onmouseout=\"onLinkOut(\\'HelpMessage\\' , geo_empty_help)\" onmouseover=\"onLinkOver(\\'HelpMessage\\' , geoaxema_recenter)\">GSM993747</a></td>\\n<td valign=\"top\">LC_S28_nor</td>\\n</tr>\\n<tr><td valign=\"top\"><a href=\"/geo/query/acc.cgi?acc=GSM993748\" onmouseout=\"onLinkOut(\\'HelpMessage\\' , geo_empty_help)\" onmouseover=\"onLinkOver(\\'HelpMessage\\' , geoaxema_recenter)\">GSM993748</a></td>\\n<td valign=\"top\">LC_S29_nor</td>\\n</tr>\\n<tr><td valign=\"top\"><a href=\"/geo/query/acc.cgi?acc=GSM993749\" onmouseout=\"onLinkOut(\\'HelpMessage\\' , geo_empty_help)\" onmouseover=\"onLinkOver(\\'HelpMessage\\' , geoaxema_recenter)\">GSM993749</a></td>\\n<td valign=\"top\">LC_S30_nor</td>\\n</tr>\\n<tr><td valign=\"top\"><a href=\"/geo/query/acc.cgi?acc=GSM993750\" onmouseout=\"onLinkOut(\\'HelpMessage\\' , geo_empty_help)\" onmouseover=\"onLinkOver(\\'HelpMessage\\' , geoaxema_recenter)\">GSM993750</a></td>\\n<td valign=\"top\">LC_S31_nor</td>\\n</tr>\\n<tr><td valign=\"top\"><a href=\"/geo/query/acc.cgi?acc=GSM993751\" onmouseout=\"onLinkOut(\\'HelpMessage\\' , geo_empty_help)\" onmouseover=\"onLinkOver(\\'HelpMessage\\' , geoaxema_recenter)\">GSM993751</a></td>\\n<td valign=\"top\">LC_S32_nor</td>\\n</tr>\\n<tr><td valign=\"top\"><a href=\"/geo/query/acc.cgi?acc=GSM993752\" onmouseout=\"onLinkOut(\\'HelpMessage\\' , geo_empty_help)\" onmouseover=\"onLinkOver(\\'HelpMessage\\' , geoaxema_recenter)\">GSM993752</a></td>\\n<td valign=\"top\">LC_S33_nor</td>\\n</tr>\\n<tr><td valign=\"top\"><a href=\"/geo/query/acc.cgi?acc=GSM993753\" onmouseout=\"onLinkOut(\\'HelpMessage\\' , geo_empty_help)\" onmouseover=\"onLinkOver(\\'HelpMessage\\' , geoaxema_recenter)\">GSM993753</a></td>\\n<td valign=\"top\">LC_S34_nor</td>\\n</tr>\\n<tr><td valign=\"top\"><a href=\"/geo/query/acc.cgi?acc=GSM993754\" onmouseout=\"onLinkOut(\\'HelpMessage\\' , geo_empty_help)\" onmouseover=\"onLinkOver(\\'HelpMessage\\' , geoaxema_recenter)\">GSM993754</a></td>\\n<td valign=\"top\">LC_S35_nor</td>\\n</tr>\\n<tr><td valign=\"top\"><a href=\"/geo/query/acc.cgi?acc=GSM993755\" onmouseout=\"onLinkOut(\\'HelpMessage\\' , geo_empty_help)\" onmouseover=\"onLinkOver(\\'HelpMessage\\' , geoaxema_recenter)\">GSM993755</a></td>\\n<td valign=\"top\">LC_S36_nor</td>\\n</tr>\\n<tr><td valign=\"top\"><a href=\"/geo/query/acc.cgi?acc=GSM993756\" onmouseout=\"onLinkOut(\\'HelpMessage\\' , geo_empty_help)\" onmouseover=\"onLinkOver(\\'HelpMessage\\' , geoaxema_recenter)\">GSM993756</a></td>\\n<td valign=\"top\">LC_S37_nor</td>\\n</tr>\\n<tr><td valign=\"top\"><a href=\"/geo/query/acc.cgi?acc=GSM993757\" onmouseout=\"onLinkOut(\\'HelpMessage\\' , geo_empty_help)\" onmouseover=\"onLinkOver(\\'HelpMessage\\' , geoaxema_recenter)\">GSM993757</a></td>\\n<td valign=\"top\">LC_S38_nor</td>\\n</tr>\\n<tr><td valign=\"top\"><a href=\"/geo/query/acc.cgi?acc=GSM993758\" onmouseout=\"onLinkOut(\\'HelpMessage\\' , geo_empty_help)\" onmouseover=\"onLinkOver(\\'HelpMessage\\' , geoaxema_recenter)\">GSM993758</a></td>\\n<td valign=\"top\">LC_S39_nor</td>\\n</tr>\\n<tr><td valign=\"top\"><a href=\"/geo/query/acc.cgi?acc=GSM993759\" onmouseout=\"onLinkOut(\\'HelpMessage\\' , geo_empty_help)\" onmouseover=\"onLinkOver(\\'HelpMessage\\' , geoaxema_recenter)\">GSM993759</a></td>\\n<td valign=\"top\">LC_S40_nor</td>\\n</tr>\\n<tr><td valign=\"top\"><a href=\"/geo/query/acc.cgi?acc=GSM993760\" onmouseout=\"onLinkOut(\\'HelpMessage\\' , geo_empty_help)\" onmouseover=\"onLinkOver(\\'HelpMessage\\' , geoaxema_recenter)\">GSM993760</a></td>\\n<td valign=\"top\">LC_S41_nor</td>\\n</tr>\\n<tr><td valign=\"top\"><a href=\"/geo/query/acc.cgi?acc=GSM993761\" onmouseout=\"onLinkOut(\\'HelpMessage\\' , geo_empty_help)\" onmouseover=\"onLinkOver(\\'HelpMessage\\' , geoaxema_recenter)\">GSM993761</a></td>\\n<td valign=\"top\">LC_S42_nor</td>\\n</tr>\\n<tr><td valign=\"top\"><a href=\"/geo/query/acc.cgi?acc=GSM993762\" onmouseout=\"onLinkOut(\\'HelpMessage\\' , geo_empty_help)\" onmouseover=\"onLinkOver(\\'HelpMessage\\' , geoaxema_recenter)\">GSM993762</a></td>\\n<td valign=\"top\">LC_S43_nor</td>\\n</tr>\\n<tr><td valign=\"top\"><a href=\"/geo/query/acc.cgi?acc=GSM993763\" onmouseout=\"onLinkOut(\\'HelpMessage\\' , geo_empty_help)\" onmouseover=\"onLinkOver(\\'HelpMessage\\' , geoaxema_recenter)\">GSM993763</a></td>\\n<td valign=\"top\">LC_S44_nor</td>\\n</tr>\\n<tr><td valign=\"top\"><a href=\"/geo/query/acc.cgi?acc=GSM993764\" onmouseout=\"onLinkOut(\\'HelpMessage\\' , geo_empty_help)\" onmouseover=\"onLinkOver(\\'HelpMessage\\' , geoaxema_recenter)\">GSM993764</a></td>\\n<td valign=\"top\">LC_S45_nor</td>\\n</tr>\\n<tr><td valign=\"top\"><a href=\"/geo/query/acc.cgi?acc=GSM993765\" onmouseout=\"onLinkOut(\\'HelpMessage\\' , geo_empty_help)\" onmouseover=\"onLinkOver(\\'HelpMessage\\' , geoaxema_recenter)\">GSM993765</a></td>\\n<td valign=\"top\">LC_S46_nor</td>\\n</tr>\\n<tr><td valign=\"top\"><a href=\"/geo/query/acc.cgi?acc=GSM993766\" onmouseout=\"onLinkOut(\\'HelpMessage\\' , geo_empty_help)\" onmouseover=\"onLinkOver(\\'HelpMessage\\' , geoaxema_recenter)\">GSM993766</a></td>\\n<td valign=\"top\">LC_S47_nor</td>\\n</tr>\\n<tr><td valign=\"top\"><a href=\"/geo/query/acc.cgi?acc=GSM993767\" onmouseout=\"onLinkOut(\\'HelpMessage\\' , geo_empty_help)\" onmouseover=\"onLinkOver(\\'HelpMessage\\' , geoaxema_recenter)\">GSM993767</a></td>\\n<td valign=\"top\">LC_S48_nor</td>\\n</tr>\\n<tr><td valign=\"top\"><a href=\"/geo/query/acc.cgi?acc=GSM993768\" onmouseout=\"onLinkOut(\\'HelpMessage\\' , geo_empty_help)\" onmouseover=\"onLinkOver(\\'HelpMessage\\' , geoaxema_recenter)\">GSM993768</a></td>\\n<td valign=\"top\">LC_S49_nor</td>\\n</tr>\\n<tr><td valign=\"top\"><a href=\"/geo/query/acc.cgi?acc=GSM993769\" onmouseout=\"onLinkOut(\\'HelpMessage\\' , geo_empty_help)\" onmouseover=\"onLinkOver(\\'HelpMessage\\' , geoaxema_recenter)\">GSM993769</a></td>\\n<td valign=\"top\">LC_S50_nor</td>\\n</tr>\\n<tr><td valign=\"top\"><a href=\"/geo/query/acc.cgi?acc=GSM993770\" onmouseout=\"onLinkOut(\\'HelpMessage\\' , geo_empty_help)\" onmouseover=\"onLinkOver(\\'HelpMessage\\' , geoaxema_recenter)\">GSM993770</a></td>\\n<td valign=\"top\">LC_S51_nor</td>\\n</tr>\\n<tr><td valign=\"top\"><a href=\"/geo/query/acc.cgi?acc=GSM993771\" onmouseout=\"onLinkOut(\\'HelpMessage\\' , geo_empty_help)\" onmouseover=\"onLinkOver(\\'HelpMessage\\' , geoaxema_recenter)\">GSM993771</a></td>\\n<td valign=\"top\">LC_S52_nor</td>\\n</tr>\\n</table></div>\\n</td>\\n</tr>\\n<tr valign=\"top\"><td colspan=\"2\"><strong>Relations</strong></td></tr>\\n<tr valign=\"top\"><td>SRA</td>\\n<td><a href=\"https://www.ncbi.nlm.nih.gov/sra?term=ERP001058\">ERP001058</a></td>\\n</tr>\\n</table>\\n<br><span id=\"geo2r\"></span><table cellspacing=\"3\" width=\"600\"><tr bgcolor=\"#eeeeee\"><td><strong>Download family</strong></td>\\n<td><strong>Format</strong></td>\\n</tr>\\n<tr><td><a href=\"ftp://ftp.ncbi.nlm.nih.gov/geo/series/GSE40nnn/GSE40419/soft/\" target=\"_blank\">SOFT formatted family file(s)</a></td>\\n<td>SOFT<a href=\"javascript:RPopUpWindow_Set(geoaxema_famsoft,260,120,\\'\\',\\'\\',\\'#E1EAE6\\',\\'\\',\\'#538AA9\\',\\'MessageBox2\\');\" onmouseout=\"RPopUpWindow_Stop()\"><img alt=\"Help\" height=\"11\" src=\"/coreweb/images/long_help4.gif\" style=\"border: none\" width=\"19\"></a></td>\\n</tr>\\n<tr><td><a href=\"ftp://ftp.ncbi.nlm.nih.gov/geo/series/GSE40nnn/GSE40419/miniml/\" target=\"_blank\">MINiML formatted family file(s)</a></td>\\n<td>MINiML<a href=\"javascript:RPopUpWindow_Set(geoaxema_famminiml,260,120,\\'\\',\\'\\',\\'#E1EAE6\\',\\'\\',\\'#538AA9\\',\\'MessageBox2\\');\" onmouseout=\"RPopUpWindow_Stop()\"><img alt=\"Help\" height=\"11\" src=\"/coreweb/images/long_help4.gif\" style=\"border: none\" width=\"19\"></a></td>\\n</tr>\\n<tr><td><a href=\"ftp://ftp.ncbi.nlm.nih.gov/geo/series/GSE40nnn/GSE40419/matrix/\" target=\"_blank\">Series Matrix File(s)</a></td>\\n<td>TXT<a href=\"javascript:RPopUpWindow_Set(geoaxema_fammatrix,260,210,\\'\\',\\'\\',\\'#E1EAE6\\',\\'\\',\\'#538AA9\\',\\'MessageBox2\\');\" onmouseout=\"RPopUpWindow_Stop()\"><img alt=\"Help\" height=\"11\" src=\"/coreweb/images/long_help4.gif\" style=\"border: none\" width=\"19\"></a></td>\\n</tr>\\n</table>\\n<br><table cellpadding=\"2\" cellspacing=\"2\" width=\"600\"><tr bgcolor=\"#eeeeee\" valign=\"top\"><td align=\"middle\" bgcolor=\"#CCCCCC\"><strong>Supplementary file</strong></td>\\n<td align=\"middle\" bgcolor=\"#CCCCCC\"><strong>Size</strong></td>\\n<td align=\"middle\" bgcolor=\"#CCCCCC\"><strong>Download</strong></td>\\n<td align=\"middle\" bgcolor=\"#CCCCCC\"><strong>File type/resource</strong></td>\\n</tr>\\n<tr valign=\"top\"><td bgcolor=\"#DEEBDC\">GSE40419_LC-87_RPKM_expression.txt.gz</td>\\n<td bgcolor=\"#DEEBDC\" title=\"10683101\">10.2 Mb</td>\\n<td bgcolor=\"#DEEBDC\"><a href=\"ftp://ftp.ncbi.nlm.nih.gov/geo/series/GSE40nnn/GSE40419/suppl/GSE40419%5FLC%2D87%5FRPKM%5Fexpression%2Etxt%2Egz\">(ftp)</a><a href=\"/geo/download/?acc=GSE40419&amp;format=file&amp;file=GSE40419%5FLC%2D87%5FRPKM%5Fexpression%2Etxt%2Egz\">(http)</a></td>\\n<td bgcolor=\"#DEEBDC\">TXT</td>\\n</tr>\\n<tr><td><a href=\"/Traces/study/?acc=PRJEB3132\">SRA Run Selector</a><a href=\"javascript:RPopUpWindow_Set(geoaxema_srarun,260,120,\\'\\',\\'\\',\\'#E1EAE6\\',\\'\\',\\'#538AA9\\',\\'MessageBox2\\');\" onmouseout=\"RPopUpWindow_Stop()\"><img alt=\"Help\" height=\"11\" src=\"/coreweb/images/long_help4.gif\" style=\"border: none\" width=\"19\"></a></td></tr>\\n<tr><td class=\"message\">Raw data are available in SRA</td></tr>\\n<tr><td class=\"message\">Processed data are available on Series record</td></tr>\\n</table>\\n<span id=\"customDlArea\"></span><br></td></tr></table>\\n                                </td>\\n                            </tr>\\n                        </table>\\n                    </td>\\n                </tr>\\n            </table>\\n        </td>\\n        <td background=\"/coreweb/template1/pix/main_right_bg.gif\"><img src=\"/coreweb/template1/pix/main_right_bg.gif\" width=\"4\" height=\"3\" alt=\"\" border=\"0\"></td>\\n    </tr>\\n    <tr>\\n        <td background=\"/coreweb/template1/pix/but_left.gif\"><img src=\"/coreweb/template1/pix/but_left.gif\" width=\"4\" height=\"4\" alt=\"\" border=\"0\"></td>\\n        <td width=\"10000\" bgcolor=\"#FFFFFF\" background=\"/coreweb/template1/pix/but_mid_bg.gif\"><img src=\"/coreweb/template1/pix/pixel.gif\" width=\"1\" height=\"1\" alt=\"\" border=\"0\"></td>\\n        <td align=\"right\" background=\"/coreweb/template1/pix/but_right.gif\"><img src=\"/coreweb/template1/pix/but_right.gif\" alt=\"\" width=\"4\" height=\"4\" border=\"0\"></td>\\n    </tr>\\n</table>\\n\\n<table width=\"100%\" border=\"0\" cellspacing=\"0\" cellpadding=\"0\" align=\"center\">\\n\\t<tr>\\n        <td width=\"99%\"><img src=\"/coreweb/template1/pix/pixel.gif\" width=\"1\" height=\"1\" alt=\"\" border=\"0\"></td><td valign=\"top\" align=\"right\"  nowrap>\\n\\t        <span class=\"HELPBAR\">|<A HREF=\"https://www.nlm.nih.gov\"> NLM </A>|<A HREF=\"https://www.nih.gov\" CLASS=\"HELPBAR\"> NIH </A>|<A HREF=\"mailto:geo@ncbi.nlm.nih.gov\" CLASS=\"HELPBAR\"> GEO Help </A>|<A HREF=\"/geo/info/disclaimer.html\" CLASS=\"HELPBAR\"> Disclaimer </A>|<a href=\"https://www.nlm.nih.gov/accessibility.html\" class=\"HELPBAR\"> Accessibility </a>|</span><br>\\n        </td>\\n\\t</tr>\\n</table>\\n\\n\\n<map name=\"unlmenu\">\\n<area alt=\"NCBI Home\" coords=\"2,0,39,15\" href=\"/\" onMouseOver=\"changpics(unl_menu_pix, unl_menu_home_a)\" onMouseOut=\"changpics(unl_menu_pix, unl_menu_noa)\">\\n<area alt=\"NCBI Search\" coords=\"40,0,91,15\" href=\"/ncbisearch/\" onMouseOver=\"changpics(unl_menu_pix, unl_menu_search_a)\" onMouseOut=\"changpics(unl_menu_pix, unl_menu_noa)\">\\n<area alt=\"NCBI SiteMap\" coords=\"92,0,143,15\" href=\"/Sitemap/\" onMouseOver=\"changpics(unl_menu_pix, unl_menu_sitemap_a)\" onMouseOut=\"changpics(unl_menu_pix, unl_menu_noa)\">\\n</map>\\n\\n<script type=\"text/javascript\" \\n  src=\"/portal/portal3rc.fcgi/rlib/js/InstrumentNCBIBaseJS/InstrumentPageStarterJS.js\"> </script>\\n</body>\\n</html>\\n\\n\\n'\n"
          ],
          "name": "stdout"
        }
      ]
    },
    {
      "cell_type": "code",
      "metadata": {
        "id": "o_1liQiED8Nx",
        "colab_type": "code",
        "colab": {}
      },
      "source": [
        "link_gsm_names = []\n",
        "link_gsm_links = []\n",
        "\n",
        "for link in links:\n",
        "  if \"GSM\" in link.text:\n",
        "    link_gsm_names.append(link.text)\n",
        "    link_gsm_links.append(link.attrs['href'])"
      ],
      "execution_count": 0,
      "outputs": []
    },
    {
      "cell_type": "code",
      "metadata": {
        "id": "hnDRUf03D-f0",
        "colab_type": "code",
        "outputId": "0de16a20-6d14-4df7-90b8-077ecc6b0ddc",
        "colab": {
          "base_uri": "https://localhost:8080/",
          "height": 72
        }
      },
      "source": [
        "print(link_gsm_links)\n",
        "print(link_gsm_names)"
      ],
      "execution_count": 29,
      "outputs": [
        {
          "output_type": "stream",
          "text": [
            "['/geo/query/acc.cgi?acc=GSM993606', '/geo/query/acc.cgi?acc=GSM993607', '/geo/query/acc.cgi?acc=GSM993608', '/geo/query/acc.cgi?acc=GSM993610', '/geo/query/acc.cgi?acc=GSM993611', '/geo/query/acc.cgi?acc=GSM993612', '/geo/query/acc.cgi?acc=GSM993613', '/geo/query/acc.cgi?acc=GSM993614', '/geo/query/acc.cgi?acc=GSM993616', '/geo/query/acc.cgi?acc=GSM993617', '/geo/query/acc.cgi?acc=GSM993618', '/geo/query/acc.cgi?acc=GSM993619', '/geo/query/acc.cgi?acc=GSM993620', '/geo/query/acc.cgi?acc=GSM993621', '/geo/query/acc.cgi?acc=GSM993622', '/geo/query/acc.cgi?acc=GSM993623', '/geo/query/acc.cgi?acc=GSM993624', '/geo/query/acc.cgi?acc=GSM993625', '/geo/query/acc.cgi?acc=GSM993626', '/geo/query/acc.cgi?acc=GSM993627', '/geo/query/acc.cgi?acc=GSM993628', '/geo/query/acc.cgi?acc=GSM993629', '/geo/query/acc.cgi?acc=GSM993630', '/geo/query/acc.cgi?acc=GSM993631', '/geo/query/acc.cgi?acc=GSM993632', '/geo/query/acc.cgi?acc=GSM993633', '/geo/query/acc.cgi?acc=GSM993634', '/geo/query/acc.cgi?acc=GSM993635', '/geo/query/acc.cgi?acc=GSM993636', '/geo/query/acc.cgi?acc=GSM993637', '/geo/query/acc.cgi?acc=GSM993638', '/geo/query/acc.cgi?acc=GSM993639', '/geo/query/acc.cgi?acc=GSM993640', '/geo/query/acc.cgi?acc=GSM993641', '/geo/query/acc.cgi?acc=GSM993642', '/geo/query/acc.cgi?acc=GSM993643', '/geo/query/acc.cgi?acc=GSM993644', '/geo/query/acc.cgi?acc=GSM993645', '/geo/query/acc.cgi?acc=GSM993646', '/geo/query/acc.cgi?acc=GSM993647', '/geo/query/acc.cgi?acc=GSM993648', '/geo/query/acc.cgi?acc=GSM993649', '/geo/query/acc.cgi?acc=GSM993650', '/geo/query/acc.cgi?acc=GSM993651', '/geo/query/acc.cgi?acc=GSM993652', '/geo/query/acc.cgi?acc=GSM993653', '/geo/query/acc.cgi?acc=GSM993654', '/geo/query/acc.cgi?acc=GSM993655', '/geo/query/acc.cgi?acc=GSM993656', '/geo/query/acc.cgi?acc=GSM993657', '/geo/query/acc.cgi?acc=GSM993658', '/geo/query/acc.cgi?acc=GSM993659', '/geo/query/acc.cgi?acc=GSM993660', '/geo/query/acc.cgi?acc=GSM993661', '/geo/query/acc.cgi?acc=GSM993662', '/geo/query/acc.cgi?acc=GSM993663', '/geo/query/acc.cgi?acc=GSM993664', '/geo/query/acc.cgi?acc=GSM993665', '/geo/query/acc.cgi?acc=GSM993666', '/geo/query/acc.cgi?acc=GSM993667', '/geo/query/acc.cgi?acc=GSM993668', '/geo/query/acc.cgi?acc=GSM993669', '/geo/query/acc.cgi?acc=GSM993670', '/geo/query/acc.cgi?acc=GSM993671', '/geo/query/acc.cgi?acc=GSM993672', '/geo/query/acc.cgi?acc=GSM993673', '/geo/query/acc.cgi?acc=GSM993674', '/geo/query/acc.cgi?acc=GSM993675', '/geo/query/acc.cgi?acc=GSM993676', '/geo/query/acc.cgi?acc=GSM993677', '/geo/query/acc.cgi?acc=GSM993678', '/geo/query/acc.cgi?acc=GSM993679', '/geo/query/acc.cgi?acc=GSM993680', '/geo/query/acc.cgi?acc=GSM993681', '/geo/query/acc.cgi?acc=GSM993682', '/geo/query/acc.cgi?acc=GSM993683', '/geo/query/acc.cgi?acc=GSM993684', '/geo/query/acc.cgi?acc=GSM993685', '/geo/query/acc.cgi?acc=GSM993686', '/geo/query/acc.cgi?acc=GSM993687', '/geo/query/acc.cgi?acc=GSM993688', '/geo/query/acc.cgi?acc=GSM993689', '/geo/query/acc.cgi?acc=GSM993690', '/geo/query/acc.cgi?acc=GSM993691', '/geo/query/acc.cgi?acc=GSM993692', '/geo/query/acc.cgi?acc=GSM993693', '/geo/query/acc.cgi?acc=GSM993694', '/geo/query/acc.cgi?acc=GSM993695', '/geo/query/acc.cgi?acc=GSM993696', '/geo/query/acc.cgi?acc=GSM993697', '/geo/query/acc.cgi?acc=GSM993698', '/geo/query/acc.cgi?acc=GSM993699', '/geo/query/acc.cgi?acc=GSM993700', '/geo/query/acc.cgi?acc=GSM993701', '/geo/query/acc.cgi?acc=GSM993702', '/geo/query/acc.cgi?acc=GSM993703', '/geo/query/acc.cgi?acc=GSM993704', '/geo/query/acc.cgi?acc=GSM993705', '/geo/query/acc.cgi?acc=GSM993706', '/geo/query/acc.cgi?acc=GSM993707', '/geo/query/acc.cgi?acc=GSM993708', '/geo/query/acc.cgi?acc=GSM993709', '/geo/query/acc.cgi?acc=GSM993710', '/geo/query/acc.cgi?acc=GSM993711', '/geo/query/acc.cgi?acc=GSM993712', '/geo/query/acc.cgi?acc=GSM993713', '/geo/query/acc.cgi?acc=GSM993714', '/geo/query/acc.cgi?acc=GSM993715', '/geo/query/acc.cgi?acc=GSM993716', '/geo/query/acc.cgi?acc=GSM993717', '/geo/query/acc.cgi?acc=GSM993718', '/geo/query/acc.cgi?acc=GSM993719', '/geo/query/acc.cgi?acc=GSM993720', '/geo/query/acc.cgi?acc=GSM993721', '/geo/query/acc.cgi?acc=GSM993722', '/geo/query/acc.cgi?acc=GSM993723', '/geo/query/acc.cgi?acc=GSM993724', '/geo/query/acc.cgi?acc=GSM993725', '/geo/query/acc.cgi?acc=GSM993726', '/geo/query/acc.cgi?acc=GSM993727', '/geo/query/acc.cgi?acc=GSM993728', '/geo/query/acc.cgi?acc=GSM993729', '/geo/query/acc.cgi?acc=GSM993730', '/geo/query/acc.cgi?acc=GSM993731', '/geo/query/acc.cgi?acc=GSM993732', '/geo/query/acc.cgi?acc=GSM993733', '/geo/query/acc.cgi?acc=GSM993734', '/geo/query/acc.cgi?acc=GSM993735', '/geo/query/acc.cgi?acc=GSM993736', '/geo/query/acc.cgi?acc=GSM993737', '/geo/query/acc.cgi?acc=GSM993738', '/geo/query/acc.cgi?acc=GSM993739', '/geo/query/acc.cgi?acc=GSM993740', '/geo/query/acc.cgi?acc=GSM993741', '/geo/query/acc.cgi?acc=GSM993742', '/geo/query/acc.cgi?acc=GSM993743', '/geo/query/acc.cgi?acc=GSM993744', '/geo/query/acc.cgi?acc=GSM993745', '/geo/query/acc.cgi?acc=GSM993746', '/geo/query/acc.cgi?acc=GSM993747', '/geo/query/acc.cgi?acc=GSM993748', '/geo/query/acc.cgi?acc=GSM993749', '/geo/query/acc.cgi?acc=GSM993750', '/geo/query/acc.cgi?acc=GSM993751', '/geo/query/acc.cgi?acc=GSM993752', '/geo/query/acc.cgi?acc=GSM993753', '/geo/query/acc.cgi?acc=GSM993754', '/geo/query/acc.cgi?acc=GSM993755', '/geo/query/acc.cgi?acc=GSM993756', '/geo/query/acc.cgi?acc=GSM993757', '/geo/query/acc.cgi?acc=GSM993758', '/geo/query/acc.cgi?acc=GSM993759', '/geo/query/acc.cgi?acc=GSM993760', '/geo/query/acc.cgi?acc=GSM993761', '/geo/query/acc.cgi?acc=GSM993762', '/geo/query/acc.cgi?acc=GSM993763', '/geo/query/acc.cgi?acc=GSM993764', '/geo/query/acc.cgi?acc=GSM993765', '/geo/query/acc.cgi?acc=GSM993766', '/geo/query/acc.cgi?acc=GSM993767', '/geo/query/acc.cgi?acc=GSM993768', '/geo/query/acc.cgi?acc=GSM993769', '/geo/query/acc.cgi?acc=GSM993770', '/geo/query/acc.cgi?acc=GSM993771']\n",
            "['GSM993606', 'GSM993607', 'GSM993608', 'GSM993610', 'GSM993611', 'GSM993612', 'GSM993613', 'GSM993614', 'GSM993616', 'GSM993617', 'GSM993618', 'GSM993619', 'GSM993620', 'GSM993621', 'GSM993622', 'GSM993623', 'GSM993624', 'GSM993625', 'GSM993626', 'GSM993627', 'GSM993628', 'GSM993629', 'GSM993630', 'GSM993631', 'GSM993632', 'GSM993633', 'GSM993634', 'GSM993635', 'GSM993636', 'GSM993637', 'GSM993638', 'GSM993639', 'GSM993640', 'GSM993641', 'GSM993642', 'GSM993643', 'GSM993644', 'GSM993645', 'GSM993646', 'GSM993647', 'GSM993648', 'GSM993649', 'GSM993650', 'GSM993651', 'GSM993652', 'GSM993653', 'GSM993654', 'GSM993655', 'GSM993656', 'GSM993657', 'GSM993658', 'GSM993659', 'GSM993660', 'GSM993661', 'GSM993662', 'GSM993663', 'GSM993664', 'GSM993665', 'GSM993666', 'GSM993667', 'GSM993668', 'GSM993669', 'GSM993670', 'GSM993671', 'GSM993672', 'GSM993673', 'GSM993674', 'GSM993675', 'GSM993676', 'GSM993677', 'GSM993678', 'GSM993679', 'GSM993680', 'GSM993681', 'GSM993682', 'GSM993683', 'GSM993684', 'GSM993685', 'GSM993686', 'GSM993687', 'GSM993688', 'GSM993689', 'GSM993690', 'GSM993691', 'GSM993692', 'GSM993693', 'GSM993694', 'GSM993695', 'GSM993696', 'GSM993697', 'GSM993698', 'GSM993699', 'GSM993700', 'GSM993701', 'GSM993702', 'GSM993703', 'GSM993704', 'GSM993705', 'GSM993706', 'GSM993707', 'GSM993708', 'GSM993709', 'GSM993710', 'GSM993711', 'GSM993712', 'GSM993713', 'GSM993714', 'GSM993715', 'GSM993716', 'GSM993717', 'GSM993718', 'GSM993719', 'GSM993720', 'GSM993721', 'GSM993722', 'GSM993723', 'GSM993724', 'GSM993725', 'GSM993726', 'GSM993727', 'GSM993728', 'GSM993729', 'GSM993730', 'GSM993731', 'GSM993732', 'GSM993733', 'GSM993734', 'GSM993735', 'GSM993736', 'GSM993737', 'GSM993738', 'GSM993739', 'GSM993740', 'GSM993741', 'GSM993742', 'GSM993743', 'GSM993744', 'GSM993745', 'GSM993746', 'GSM993747', 'GSM993748', 'GSM993749', 'GSM993750', 'GSM993751', 'GSM993752', 'GSM993753', 'GSM993754', 'GSM993755', 'GSM993756', 'GSM993757', 'GSM993758', 'GSM993759', 'GSM993760', 'GSM993761', 'GSM993762', 'GSM993763', 'GSM993764', 'GSM993765', 'GSM993766', 'GSM993767', 'GSM993768', 'GSM993769', 'GSM993770', 'GSM993771']\n"
          ],
          "name": "stdout"
        }
      ]
    },
    {
      "cell_type": "code",
      "metadata": {
        "id": "Xz6hO0XFPmDk",
        "colab_type": "code",
        "colab": {}
      },
      "source": [
        "samples_df = pd.DataFrame(data=link_gsm_names, columns=[\"gsm\"])\n",
        "\n",
        "for n in range(len(link_gsm_links)):\n",
        "  link_gsm_links[n] = \"https://www.ncbi.nlm.nih.gov/\"+link_gsm_links[n]\n",
        "\n",
        "samples_df[\"gsm_links\"] = link_gsm_links\n",
        "\n",
        "samples_df['age_at_diagnosis'] = np.NaN\n",
        "samples_df['gender'] = np.NaN\n",
        "samples_df['smoking_status'] = np.NaN\n",
        "samples_df['stage'] = np.NaN\n",
        "\n",
        "samples_df.head()"
      ],
      "execution_count": 0,
      "outputs": []
    },
    {
      "cell_type": "markdown",
      "metadata": {
        "id": "maW2rATOTj6w",
        "colab_type": "text"
      },
      "source": [
        "# GEO Characteristics"
      ]
    },
    {
      "cell_type": "code",
      "metadata": {
        "id": "5LAgFCvUwV73",
        "colab_type": "code",
        "outputId": "fb3d0d6f-0ba2-42dc-8e44-c9e240245b60",
        "colab": {
          "base_uri": "https://localhost:8080/",
          "height": 35
        }
      },
      "source": [
        "len(samples_df)"
      ],
      "execution_count": 0,
      "outputs": [
        {
          "output_type": "execute_result",
          "data": {
            "text/plain": [
              "164"
            ]
          },
          "metadata": {
            "tags": []
          },
          "execution_count": 48
        }
      ]
    },
    {
      "cell_type": "code",
      "metadata": {
        "id": "h8CKx19UtveC",
        "colab_type": "code",
        "outputId": "77df2608-b67d-44de-ad55-5ee82ca8cce1",
        "colab": {
          "base_uri": "https://localhost:8080/",
          "height": 1000
        }
      },
      "source": [
        "for n in range(len(samples_df)):\n",
        "  # print(n)\n",
        "  result_gsm = requests.get(samples_df[\"gsm_links\"][n])\n",
        "\n",
        "  src_gsm = result_gsm.content\n",
        "\n",
        "  soup_gsm = BeautifulSoup(src_gsm, 'lxml')\n",
        "  # print(soup_gsm.prettify())\n",
        "  tables_gsm = soup_gsm.findChildren('table')\n",
        "  \n",
        "  # find the last row where gender occurs\n",
        "  # rows = tables_gsm[0].findChildren(['td'])\n",
        "  # i = 0\n",
        "  # for row in rows:\n",
        "  #  if \"gender\" in str(row):\n",
        "  #    n = i\n",
        "  #  i += 1\n",
        "\n",
        "  string = str(tables_gsm[0])\n",
        "\n",
        "  age_at_diagnosis = int(re.search('age_at_diagnosis: (.+?)<br/>', string).group(1))\n",
        "  gender = re.search('gender: (.+?)<br/>', string).group(1)\n",
        "  smoking_status = re.search('smoking_status: (.+?)<br/>', string).group(1)\n",
        "  stage = re.search('Stage: (.+?)<br/>', string).group(1)\n",
        "\n",
        "  c1 = list(samples_df.columns).index('age_at_diagnosis')\n",
        "  c2 = list(samples_df.columns).index('gender')\n",
        "  c3 = list(samples_df.columns).index('smoking_status')\n",
        "  c4 = list(samples_df.columns).index('stage')\n",
        "\n",
        "  samples_df.iloc[n, c1] = age_at_diagnosis\n",
        "  samples_df.iloc[n, c2] = gender\n",
        "  samples_df.iloc[n, c3] = smoking_status\n",
        "  samples_df.iloc[n, c4] = stage"
      ],
      "execution_count": 33,
      "outputs": [
        {
          "output_type": "stream",
          "text": [
            "0\n",
            "1\n",
            "2\n",
            "3\n",
            "4\n",
            "5\n",
            "6\n",
            "7\n",
            "8\n",
            "9\n",
            "10\n",
            "11\n",
            "12\n",
            "13\n",
            "14\n",
            "15\n",
            "16\n",
            "17\n",
            "18\n",
            "19\n",
            "20\n",
            "21\n",
            "22\n",
            "23\n",
            "24\n",
            "25\n",
            "26\n",
            "27\n",
            "28\n",
            "29\n",
            "30\n",
            "31\n",
            "32\n",
            "33\n",
            "34\n",
            "35\n",
            "36\n",
            "37\n",
            "38\n",
            "39\n",
            "40\n",
            "41\n",
            "42\n",
            "43\n",
            "44\n",
            "45\n",
            "46\n",
            "47\n",
            "48\n",
            "49\n",
            "50\n",
            "51\n",
            "52\n",
            "53\n",
            "54\n",
            "55\n",
            "56\n",
            "57\n",
            "58\n",
            "59\n",
            "60\n",
            "61\n",
            "62\n",
            "63\n",
            "64\n",
            "65\n",
            "66\n",
            "67\n",
            "68\n",
            "69\n",
            "70\n",
            "71\n",
            "72\n",
            "73\n",
            "74\n",
            "75\n",
            "76\n",
            "77\n",
            "78\n",
            "79\n",
            "80\n",
            "81\n",
            "82\n",
            "83\n",
            "84\n",
            "85\n",
            "86\n",
            "87\n",
            "88\n",
            "89\n",
            "90\n",
            "91\n",
            "92\n",
            "93\n",
            "94\n",
            "95\n",
            "96\n",
            "97\n",
            "98\n",
            "99\n",
            "100\n",
            "101\n",
            "102\n",
            "103\n",
            "104\n",
            "105\n",
            "106\n",
            "107\n",
            "108\n",
            "109\n",
            "110\n",
            "111\n",
            "112\n",
            "113\n",
            "114\n",
            "115\n",
            "116\n",
            "117\n",
            "118\n",
            "119\n",
            "120\n",
            "121\n",
            "122\n",
            "123\n",
            "124\n",
            "125\n",
            "126\n",
            "127\n",
            "128\n",
            "129\n",
            "130\n",
            "131\n",
            "132\n",
            "133\n",
            "134\n",
            "135\n",
            "136\n",
            "137\n",
            "138\n",
            "139\n",
            "140\n",
            "141\n",
            "142\n",
            "143\n",
            "144\n",
            "145\n",
            "146\n",
            "147\n",
            "148\n",
            "149\n",
            "150\n",
            "151\n",
            "152\n",
            "153\n",
            "154\n",
            "155\n",
            "156\n",
            "157\n",
            "158\n",
            "159\n",
            "160\n",
            "161\n",
            "162\n",
            "163\n"
          ],
          "name": "stdout"
        }
      ]
    },
    {
      "cell_type": "code",
      "metadata": {
        "id": "U7PHgSuRPWAc",
        "colab_type": "code",
        "colab": {
          "base_uri": "https://localhost:8080/",
          "height": 105
        },
        "outputId": "75f04d53-6736-43e3-b2ab-8a1a139a6d0e"
      },
      "source": [
        "samples_df[0:35]['smoking_status'].value_counts()"
      ],
      "execution_count": 40,
      "outputs": [
        {
          "output_type": "execute_result",
          "data": {
            "text/plain": [
              "never smoker      13\n",
              "smoker            11\n",
              "current smoker     7\n",
              "NA                 4\n",
              "Name: smoking_status, dtype: int64"
            ]
          },
          "metadata": {
            "tags": []
          },
          "execution_count": 40
        }
      ]
    },
    {
      "cell_type": "markdown",
      "metadata": {
        "id": "CLB_xwwPcxGm",
        "colab_type": "text"
      },
      "source": [
        "# GSM Link to ERX"
      ]
    },
    {
      "cell_type": "code",
      "metadata": {
        "id": "qz-e6WfJ_eqV",
        "colab_type": "code",
        "colab": {}
      },
      "source": [
        "link_erx = []\n",
        "gsm_erx = []\n",
        "\n",
        "for m in samples_df['gsm_links']:\n",
        "  result_gsm = requests.get(m)\n",
        "  src_gsm = result_gsm.content\n",
        "  soup_gsm = BeautifulSoup(src_gsm, 'lxml')\n",
        "  links_gsm = soup_gsm.find_all(\"a\")\n",
        "  for n in links_gsm:\n",
        "    if \"ERX\" in n.text:\n",
        "      link_erx.append(n.text)\n",
        "      gsm_erx.append(m)"
      ],
      "execution_count": 0,
      "outputs": []
    },
    {
      "cell_type": "code",
      "metadata": {
        "id": "PJkYXMuDeFTp",
        "colab_type": "code",
        "outputId": "2f81456c-c1b9-423b-9bcf-8231d31f9803",
        "colab": {
          "base_uri": "https://localhost:8080/",
          "height": 35
        }
      },
      "source": [
        "len(link_erx)"
      ],
      "execution_count": 43,
      "outputs": [
        {
          "output_type": "execute_result",
          "data": {
            "text/plain": [
              "167"
            ]
          },
          "metadata": {
            "tags": []
          },
          "execution_count": 43
        }
      ]
    },
    {
      "cell_type": "code",
      "metadata": {
        "id": "aLFvD-6mfISM",
        "colab_type": "code",
        "outputId": "f03309dd-715c-4d89-eb50-9e35ff8b818c",
        "colab": {
          "base_uri": "https://localhost:8080/",
          "height": 35
        }
      },
      "source": [
        "len(gsm_erx)\n",
        "gsm_erx = [x.replace('https://www.ncbi.nlm.nih.gov//geo/query/acc.cgi?acc=', '') for x in gsm_erx]\n",
        "len(set(gsm_erx))"
      ],
      "execution_count": 44,
      "outputs": [
        {
          "output_type": "execute_result",
          "data": {
            "text/plain": [
              "164"
            ]
          },
          "metadata": {
            "tags": []
          },
          "execution_count": 44
        }
      ]
    },
    {
      "cell_type": "code",
      "metadata": {
        "id": "0_QY5BiPg_Bi",
        "colab_type": "code",
        "outputId": "35535f97-e6eb-451f-e727-35d80567fefb",
        "colab": {
          "base_uri": "https://localhost:8080/",
          "height": 70
        }
      },
      "source": [
        "from collections import Counter\n",
        "\n",
        "temp1 = Counter(gsm_erx).keys() # equals to list(set(list))\n",
        "temp2 = Counter(gsm_erx).values() # counts the elements' frequency\n",
        "\n",
        "gsm_erx_dict = dict(zip(temp1, temp2))\n",
        "duplicates = []\n",
        "\n",
        "for name, count in gsm_erx_dict.items():\n",
        "  if count == 2:\n",
        "    duplicates.append(name)\n",
        "\n",
        "for n in duplicates:\n",
        "  matches = []\n",
        "  i = 0\n",
        "  for m in gsm_erx:\n",
        "    if m == n:\n",
        "      matches.append(i)\n",
        "    i += 1\n",
        "  print(matches)"
      ],
      "execution_count": 45,
      "outputs": [
        {
          "output_type": "stream",
          "text": [
            "[41, 42]\n",
            "[51, 52]\n",
            "[53, 54]\n"
          ],
          "name": "stdout"
        }
      ]
    },
    {
      "cell_type": "code",
      "metadata": {
        "id": "aoZW9XBXkMYE",
        "colab_type": "code",
        "outputId": "bf4daa63-437a-434e-d405-0a9a3ce8e786",
        "colab": {
          "base_uri": "https://localhost:8080/",
          "height": 140
        }
      },
      "source": [
        "print(link_erx[41])\n",
        "print(link_erx[42])\n",
        "print(link_erx[51])\n",
        "print(link_erx[52])\n",
        "print(link_erx[53])\n",
        "print(link_erx[54])\n",
        "print(duplicates)"
      ],
      "execution_count": 46,
      "outputs": [
        {
          "output_type": "stream",
          "text": [
            "ERX140463\n",
            "ERX140464\n",
            "ERX140473\n",
            "ERX140474\n",
            "ERX140475\n",
            "ERX140476\n",
            "['GSM993649', 'GSM993658', 'GSM993659']\n"
          ],
          "name": "stdout"
        }
      ]
    },
    {
      "cell_type": "code",
      "metadata": {
        "id": "WvhFcv4QugLc",
        "colab_type": "code",
        "colab": {}
      },
      "source": [
        "experiment_df = pd.DataFrame(data=link_erx, columns=[\"experiment_accession\"])\n",
        "experiment_df[\"gsm\"] = gsm_erx"
      ],
      "execution_count": 0,
      "outputs": []
    },
    {
      "cell_type": "code",
      "metadata": {
        "id": "MzUUDJ9mepjk",
        "colab_type": "code",
        "outputId": "09b98508-782d-42b9-bcff-f07b6ad030bf",
        "colab": {
          "base_uri": "https://localhost:8080/",
          "height": 203
        }
      },
      "source": [
        "experiment_df.head()"
      ],
      "execution_count": 59,
      "outputs": [
        {
          "output_type": "execute_result",
          "data": {
            "text/html": [
              "<div>\n",
              "<style scoped>\n",
              "    .dataframe tbody tr th:only-of-type {\n",
              "        vertical-align: middle;\n",
              "    }\n",
              "\n",
              "    .dataframe tbody tr th {\n",
              "        vertical-align: top;\n",
              "    }\n",
              "\n",
              "    .dataframe thead th {\n",
              "        text-align: right;\n",
              "    }\n",
              "</style>\n",
              "<table border=\"1\" class=\"dataframe\">\n",
              "  <thead>\n",
              "    <tr style=\"text-align: right;\">\n",
              "      <th></th>\n",
              "      <th>experiment_accession</th>\n",
              "      <th>gsm</th>\n",
              "    </tr>\n",
              "  </thead>\n",
              "  <tbody>\n",
              "    <tr>\n",
              "      <th>0</th>\n",
              "      <td>ERX140427</td>\n",
              "      <td>GSM993606</td>\n",
              "    </tr>\n",
              "    <tr>\n",
              "      <th>1</th>\n",
              "      <td>ERX140428</td>\n",
              "      <td>GSM993607</td>\n",
              "    </tr>\n",
              "    <tr>\n",
              "      <th>2</th>\n",
              "      <td>ERX140429</td>\n",
              "      <td>GSM993608</td>\n",
              "    </tr>\n",
              "    <tr>\n",
              "      <th>3</th>\n",
              "      <td>ERX140430</td>\n",
              "      <td>GSM993610</td>\n",
              "    </tr>\n",
              "    <tr>\n",
              "      <th>4</th>\n",
              "      <td>ERX140431</td>\n",
              "      <td>GSM993611</td>\n",
              "    </tr>\n",
              "  </tbody>\n",
              "</table>\n",
              "</div>"
            ],
            "text/plain": [
              "  experiment_accession        gsm\n",
              "0            ERX140427  GSM993606\n",
              "1            ERX140428  GSM993607\n",
              "2            ERX140429  GSM993608\n",
              "3            ERX140430  GSM993610\n",
              "4            ERX140431  GSM993611"
            ]
          },
          "metadata": {
            "tags": []
          },
          "execution_count": 59
        }
      ]
    },
    {
      "cell_type": "code",
      "metadata": {
        "id": "JXnwDXamvA09",
        "colab_type": "code",
        "outputId": "6fe16708-3644-4eb5-bc07-dd4c206d7370",
        "colab": {
          "base_uri": "https://localhost:8080/",
          "height": 203
        }
      },
      "source": [
        "data_1 = pd.read_csv(\"/content/ANGSD/files/Backup_v01.csv\", header = None)\n",
        "data_1.columns = ['gsm', 'sample']\n",
        "data_1.head()"
      ],
      "execution_count": 60,
      "outputs": [
        {
          "output_type": "execute_result",
          "data": {
            "text/html": [
              "<div>\n",
              "<style scoped>\n",
              "    .dataframe tbody tr th:only-of-type {\n",
              "        vertical-align: middle;\n",
              "    }\n",
              "\n",
              "    .dataframe tbody tr th {\n",
              "        vertical-align: top;\n",
              "    }\n",
              "\n",
              "    .dataframe thead th {\n",
              "        text-align: right;\n",
              "    }\n",
              "</style>\n",
              "<table border=\"1\" class=\"dataframe\">\n",
              "  <thead>\n",
              "    <tr style=\"text-align: right;\">\n",
              "      <th></th>\n",
              "      <th>gsm</th>\n",
              "      <th>sample</th>\n",
              "    </tr>\n",
              "  </thead>\n",
              "  <tbody>\n",
              "    <tr>\n",
              "      <th>0</th>\n",
              "      <td>GSM993606</td>\n",
              "      <td>LC_C1</td>\n",
              "    </tr>\n",
              "    <tr>\n",
              "      <th>1</th>\n",
              "      <td>GSM993607</td>\n",
              "      <td>LC_C2</td>\n",
              "    </tr>\n",
              "    <tr>\n",
              "      <th>2</th>\n",
              "      <td>GSM993608</td>\n",
              "      <td>LC_C3</td>\n",
              "    </tr>\n",
              "    <tr>\n",
              "      <th>3</th>\n",
              "      <td>GSM993610</td>\n",
              "      <td>LC_C4</td>\n",
              "    </tr>\n",
              "    <tr>\n",
              "      <th>4</th>\n",
              "      <td>GSM993611</td>\n",
              "      <td>LC_C5</td>\n",
              "    </tr>\n",
              "  </tbody>\n",
              "</table>\n",
              "</div>"
            ],
            "text/plain": [
              "         gsm sample\n",
              "0  GSM993606  LC_C1\n",
              "1  GSM993607  LC_C2\n",
              "2  GSM993608  LC_C3\n",
              "3  GSM993610  LC_C4\n",
              "4  GSM993611  LC_C5"
            ]
          },
          "metadata": {
            "tags": []
          },
          "execution_count": 60
        }
      ]
    },
    {
      "cell_type": "code",
      "metadata": {
        "id": "ubElPvck5ekO",
        "colab_type": "code",
        "outputId": "61b878f5-108f-4501-9af1-669d8c50fab5",
        "colab": {
          "base_uri": "https://localhost:8080/",
          "height": 223
        }
      },
      "source": [
        "data_2 = pd.read_csv(\"/content/ANGSD/files/experiment_list.txt\", sep=\"\\t\")\n",
        "data_2.head()"
      ],
      "execution_count": 61,
      "outputs": [
        {
          "output_type": "execute_result",
          "data": {
            "text/html": [
              "<div>\n",
              "<style scoped>\n",
              "    .dataframe tbody tr th:only-of-type {\n",
              "        vertical-align: middle;\n",
              "    }\n",
              "\n",
              "    .dataframe tbody tr th {\n",
              "        vertical-align: top;\n",
              "    }\n",
              "\n",
              "    .dataframe thead th {\n",
              "        text-align: right;\n",
              "    }\n",
              "</style>\n",
              "<table border=\"1\" class=\"dataframe\">\n",
              "  <thead>\n",
              "    <tr style=\"text-align: right;\">\n",
              "      <th></th>\n",
              "      <th>study_accession</th>\n",
              "      <th>sample_accession</th>\n",
              "      <th>secondary_sample_accession</th>\n",
              "      <th>experiment_accession</th>\n",
              "      <th>run_accession</th>\n",
              "      <th>fastq_ftp</th>\n",
              "    </tr>\n",
              "  </thead>\n",
              "  <tbody>\n",
              "    <tr>\n",
              "      <th>0</th>\n",
              "      <td>PRJEB2784</td>\n",
              "      <td>SAMEA1094642</td>\n",
              "      <td>ERS077419</td>\n",
              "      <td>ERX036541</td>\n",
              "      <td>ERR058695</td>\n",
              "      <td>ftp.sra.ebi.ac.uk/vol1/fastq/ERR058/ERR058695/...</td>\n",
              "    </tr>\n",
              "    <tr>\n",
              "      <th>1</th>\n",
              "      <td>PRJEB2784</td>\n",
              "      <td>SAMEA1094643</td>\n",
              "      <td>ERS079846</td>\n",
              "      <td>ERX040276</td>\n",
              "      <td>ERR062334</td>\n",
              "      <td>NaN</td>\n",
              "    </tr>\n",
              "    <tr>\n",
              "      <th>2</th>\n",
              "      <td>PRJEB2784</td>\n",
              "      <td>SAMEA1094641</td>\n",
              "      <td>ERS079847</td>\n",
              "      <td>ERX040277</td>\n",
              "      <td>ERR062335</td>\n",
              "      <td>NaN</td>\n",
              "    </tr>\n",
              "    <tr>\n",
              "      <th>3</th>\n",
              "      <td>PRJEB2784</td>\n",
              "      <td>SAMEA1094645</td>\n",
              "      <td>ERS079848</td>\n",
              "      <td>ERX040278</td>\n",
              "      <td>ERR062336</td>\n",
              "      <td>NaN</td>\n",
              "    </tr>\n",
              "    <tr>\n",
              "      <th>4</th>\n",
              "      <td>PRJEB2784</td>\n",
              "      <td>SAMEA1094646</td>\n",
              "      <td>ERS079849</td>\n",
              "      <td>ERX040279</td>\n",
              "      <td>ERR062337</td>\n",
              "      <td>NaN</td>\n",
              "    </tr>\n",
              "  </tbody>\n",
              "</table>\n",
              "</div>"
            ],
            "text/plain": [
              "  study_accession  ...                                          fastq_ftp\n",
              "0       PRJEB2784  ...  ftp.sra.ebi.ac.uk/vol1/fastq/ERR058/ERR058695/...\n",
              "1       PRJEB2784  ...                                                NaN\n",
              "2       PRJEB2784  ...                                                NaN\n",
              "3       PRJEB2784  ...                                                NaN\n",
              "4       PRJEB2784  ...                                                NaN\n",
              "\n",
              "[5 rows x 6 columns]"
            ]
          },
          "metadata": {
            "tags": []
          },
          "execution_count": 61
        }
      ]
    },
    {
      "cell_type": "code",
      "metadata": {
        "id": "P9dRKnMi7D-B",
        "colab_type": "code",
        "outputId": "4bbebac6-450b-40bf-e346-fc59a936e462",
        "colab": {
          "base_uri": "https://localhost:8080/",
          "height": 228
        }
      },
      "source": [
        "data_2.run_accession.value_counts()"
      ],
      "execution_count": 62,
      "outputs": [
        {
          "output_type": "execute_result",
          "data": {
            "text/plain": [
              "ERR164618    1\n",
              "ERR164477    1\n",
              "ERR164529    1\n",
              "ERR164601    1\n",
              "ERR164595    1\n",
              "            ..\n",
              "ERR164606    1\n",
              "ERR164580    1\n",
              "ERR164506    1\n",
              "ERR164600    1\n",
              "ERR164554    1\n",
              "Name: run_accession, Length: 173, dtype: int64"
            ]
          },
          "metadata": {
            "tags": []
          },
          "execution_count": 62
        }
      ]
    },
    {
      "cell_type": "code",
      "metadata": {
        "id": "CzFjEJZH7WFh",
        "colab_type": "code",
        "colab": {}
      },
      "source": [
        "experiment_df = experiment_df.merge(samples_df, on='gsm')\n",
        "experiment_df = experiment_df.merge(data_1, on='gsm')\n",
        "experiment_df = experiment_df.merge(data_2, on='experiment_accession')"
      ],
      "execution_count": 0,
      "outputs": []
    },
    {
      "cell_type": "code",
      "metadata": {
        "id": "5kgdhawy8jWS",
        "colab_type": "code",
        "outputId": "9e276752-47f7-4a56-84ca-d45cf7bdeaf4",
        "colab": {
          "base_uri": "https://localhost:8080/",
          "height": 437
        }
      },
      "source": [
        "experiment_df"
      ],
      "execution_count": 64,
      "outputs": [
        {
          "output_type": "execute_result",
          "data": {
            "text/html": [
              "<div>\n",
              "<style scoped>\n",
              "    .dataframe tbody tr th:only-of-type {\n",
              "        vertical-align: middle;\n",
              "    }\n",
              "\n",
              "    .dataframe tbody tr th {\n",
              "        vertical-align: top;\n",
              "    }\n",
              "\n",
              "    .dataframe thead th {\n",
              "        text-align: right;\n",
              "    }\n",
              "</style>\n",
              "<table border=\"1\" class=\"dataframe\">\n",
              "  <thead>\n",
              "    <tr style=\"text-align: right;\">\n",
              "      <th></th>\n",
              "      <th>experiment_accession</th>\n",
              "      <th>gsm</th>\n",
              "      <th>gsm_links</th>\n",
              "      <th>age_at_diagnosis</th>\n",
              "      <th>gender</th>\n",
              "      <th>smoking_status</th>\n",
              "      <th>stage</th>\n",
              "      <th>sample</th>\n",
              "      <th>study_accession</th>\n",
              "      <th>sample_accession</th>\n",
              "      <th>secondary_sample_accession</th>\n",
              "      <th>run_accession</th>\n",
              "      <th>fastq_ftp</th>\n",
              "    </tr>\n",
              "  </thead>\n",
              "  <tbody>\n",
              "    <tr>\n",
              "      <th>0</th>\n",
              "      <td>ERX140427</td>\n",
              "      <td>GSM993606</td>\n",
              "      <td>https://www.ncbi.nlm.nih.gov//geo/query/acc.cg...</td>\n",
              "      <td>54.0</td>\n",
              "      <td>male</td>\n",
              "      <td>smoker</td>\n",
              "      <td>1A</td>\n",
              "      <td>LC_C1</td>\n",
              "      <td>PRJEB2784</td>\n",
              "      <td>SAMEA1499272</td>\n",
              "      <td>ERS167310</td>\n",
              "      <td>ERR164550</td>\n",
              "      <td>ftp.sra.ebi.ac.uk/vol1/fastq/ERR164/ERR164550/...</td>\n",
              "    </tr>\n",
              "    <tr>\n",
              "      <th>1</th>\n",
              "      <td>ERX140428</td>\n",
              "      <td>GSM993607</td>\n",
              "      <td>https://www.ncbi.nlm.nih.gov//geo/query/acc.cg...</td>\n",
              "      <td>51.0</td>\n",
              "      <td>male</td>\n",
              "      <td>current smoker</td>\n",
              "      <td>2B</td>\n",
              "      <td>LC_C2</td>\n",
              "      <td>PRJEB2784</td>\n",
              "      <td>SAMEA1499302</td>\n",
              "      <td>ERS167311</td>\n",
              "      <td>ERR164551</td>\n",
              "      <td>ftp.sra.ebi.ac.uk/vol1/fastq/ERR164/ERR164551/...</td>\n",
              "    </tr>\n",
              "    <tr>\n",
              "      <th>2</th>\n",
              "      <td>ERX140429</td>\n",
              "      <td>GSM993608</td>\n",
              "      <td>https://www.ncbi.nlm.nih.gov//geo/query/acc.cg...</td>\n",
              "      <td>65.0</td>\n",
              "      <td>female</td>\n",
              "      <td>never smoker</td>\n",
              "      <td>1A</td>\n",
              "      <td>LC_C3</td>\n",
              "      <td>PRJEB2784</td>\n",
              "      <td>SAMEA1499306</td>\n",
              "      <td>ERS167312</td>\n",
              "      <td>ERR164552</td>\n",
              "      <td>ftp.sra.ebi.ac.uk/vol1/fastq/ERR164/ERR164552/...</td>\n",
              "    </tr>\n",
              "    <tr>\n",
              "      <th>3</th>\n",
              "      <td>ERX140430</td>\n",
              "      <td>GSM993610</td>\n",
              "      <td>https://www.ncbi.nlm.nih.gov//geo/query/acc.cg...</td>\n",
              "      <td>52.0</td>\n",
              "      <td>male</td>\n",
              "      <td>never smoker</td>\n",
              "      <td>3B</td>\n",
              "      <td>LC_C4</td>\n",
              "      <td>PRJEB2784</td>\n",
              "      <td>SAMEA1499329</td>\n",
              "      <td>ERS167313</td>\n",
              "      <td>ERR164553</td>\n",
              "      <td>ftp.sra.ebi.ac.uk/vol1/fastq/ERR164/ERR164553/...</td>\n",
              "    </tr>\n",
              "    <tr>\n",
              "      <th>4</th>\n",
              "      <td>ERX140431</td>\n",
              "      <td>GSM993611</td>\n",
              "      <td>https://www.ncbi.nlm.nih.gov//geo/query/acc.cg...</td>\n",
              "      <td>68.0</td>\n",
              "      <td>male</td>\n",
              "      <td>NA</td>\n",
              "      <td>3A</td>\n",
              "      <td>LC_C5</td>\n",
              "      <td>PRJEB2784</td>\n",
              "      <td>SAMEA1499346</td>\n",
              "      <td>ERS167314</td>\n",
              "      <td>ERR164554</td>\n",
              "      <td>ftp.sra.ebi.ac.uk/vol1/fastq/ERR164/ERR164554/...</td>\n",
              "    </tr>\n",
              "    <tr>\n",
              "      <th>...</th>\n",
              "      <td>...</td>\n",
              "      <td>...</td>\n",
              "      <td>...</td>\n",
              "      <td>...</td>\n",
              "      <td>...</td>\n",
              "      <td>...</td>\n",
              "      <td>...</td>\n",
              "      <td>...</td>\n",
              "      <td>...</td>\n",
              "      <td>...</td>\n",
              "      <td>...</td>\n",
              "      <td>...</td>\n",
              "      <td>...</td>\n",
              "    </tr>\n",
              "    <tr>\n",
              "      <th>162</th>\n",
              "      <td>ERX140422</td>\n",
              "      <td>GSM993767</td>\n",
              "      <td>https://www.ncbi.nlm.nih.gov//geo/query/acc.cg...</td>\n",
              "      <td>48.0</td>\n",
              "      <td>female</td>\n",
              "      <td>never smoker</td>\n",
              "      <td>NA</td>\n",
              "      <td>LC_S48_nor</td>\n",
              "      <td>PRJEB2784</td>\n",
              "      <td>SAMEA1499227</td>\n",
              "      <td>ERS158801</td>\n",
              "      <td>ERR164545</td>\n",
              "      <td>ftp.sra.ebi.ac.uk/vol1/fastq/ERR164/ERR164545/...</td>\n",
              "    </tr>\n",
              "    <tr>\n",
              "      <th>163</th>\n",
              "      <td>ERX140423</td>\n",
              "      <td>GSM993768</td>\n",
              "      <td>https://www.ncbi.nlm.nih.gov//geo/query/acc.cg...</td>\n",
              "      <td>66.0</td>\n",
              "      <td>female</td>\n",
              "      <td>never smoker</td>\n",
              "      <td>NA</td>\n",
              "      <td>LC_S49_nor</td>\n",
              "      <td>PRJEB2784</td>\n",
              "      <td>SAMEA1499232</td>\n",
              "      <td>ERS158802</td>\n",
              "      <td>ERR164546</td>\n",
              "      <td>ftp.sra.ebi.ac.uk/vol1/fastq/ERR164/ERR164546/...</td>\n",
              "    </tr>\n",
              "    <tr>\n",
              "      <th>164</th>\n",
              "      <td>ERX140424</td>\n",
              "      <td>GSM993769</td>\n",
              "      <td>https://www.ncbi.nlm.nih.gov//geo/query/acc.cg...</td>\n",
              "      <td>64.0</td>\n",
              "      <td>female</td>\n",
              "      <td>never smoker</td>\n",
              "      <td>NA</td>\n",
              "      <td>LC_S50_nor</td>\n",
              "      <td>PRJEB2784</td>\n",
              "      <td>SAMEA1499373</td>\n",
              "      <td>ERS158803</td>\n",
              "      <td>ERR164547</td>\n",
              "      <td>ftp.sra.ebi.ac.uk/vol1/fastq/ERR164/ERR164547/...</td>\n",
              "    </tr>\n",
              "    <tr>\n",
              "      <th>165</th>\n",
              "      <td>ERX140425</td>\n",
              "      <td>GSM993770</td>\n",
              "      <td>https://www.ncbi.nlm.nih.gov//geo/query/acc.cg...</td>\n",
              "      <td>64.0</td>\n",
              "      <td>male</td>\n",
              "      <td>current smoker</td>\n",
              "      <td>NA</td>\n",
              "      <td>LC_S51_nor</td>\n",
              "      <td>PRJEB2784</td>\n",
              "      <td>SAMEA1499352</td>\n",
              "      <td>ERS158804</td>\n",
              "      <td>ERR164548</td>\n",
              "      <td>ftp.sra.ebi.ac.uk/vol1/fastq/ERR164/ERR164548/...</td>\n",
              "    </tr>\n",
              "    <tr>\n",
              "      <th>166</th>\n",
              "      <td>ERX140426</td>\n",
              "      <td>GSM993771</td>\n",
              "      <td>https://www.ncbi.nlm.nih.gov//geo/query/acc.cg...</td>\n",
              "      <td>82.0</td>\n",
              "      <td>female</td>\n",
              "      <td>smoker</td>\n",
              "      <td>NA</td>\n",
              "      <td>LC_S52_nor</td>\n",
              "      <td>PRJEB2784</td>\n",
              "      <td>SAMEA1499325</td>\n",
              "      <td>ERS158805</td>\n",
              "      <td>ERR164549</td>\n",
              "      <td>ftp.sra.ebi.ac.uk/vol1/fastq/ERR164/ERR164549/...</td>\n",
              "    </tr>\n",
              "  </tbody>\n",
              "</table>\n",
              "<p>167 rows × 13 columns</p>\n",
              "</div>"
            ],
            "text/plain": [
              "    experiment_accession  ...                                          fastq_ftp\n",
              "0              ERX140427  ...  ftp.sra.ebi.ac.uk/vol1/fastq/ERR164/ERR164550/...\n",
              "1              ERX140428  ...  ftp.sra.ebi.ac.uk/vol1/fastq/ERR164/ERR164551/...\n",
              "2              ERX140429  ...  ftp.sra.ebi.ac.uk/vol1/fastq/ERR164/ERR164552/...\n",
              "3              ERX140430  ...  ftp.sra.ebi.ac.uk/vol1/fastq/ERR164/ERR164553/...\n",
              "4              ERX140431  ...  ftp.sra.ebi.ac.uk/vol1/fastq/ERR164/ERR164554/...\n",
              "..                   ...  ...                                                ...\n",
              "162            ERX140422  ...  ftp.sra.ebi.ac.uk/vol1/fastq/ERR164/ERR164545/...\n",
              "163            ERX140423  ...  ftp.sra.ebi.ac.uk/vol1/fastq/ERR164/ERR164546/...\n",
              "164            ERX140424  ...  ftp.sra.ebi.ac.uk/vol1/fastq/ERR164/ERR164547/...\n",
              "165            ERX140425  ...  ftp.sra.ebi.ac.uk/vol1/fastq/ERR164/ERR164548/...\n",
              "166            ERX140426  ...  ftp.sra.ebi.ac.uk/vol1/fastq/ERR164/ERR164549/...\n",
              "\n",
              "[167 rows x 13 columns]"
            ]
          },
          "metadata": {
            "tags": []
          },
          "execution_count": 64
        }
      ]
    },
    {
      "cell_type": "code",
      "metadata": {
        "id": "emH8dLfH8lW-",
        "colab_type": "code",
        "colab": {}
      },
      "source": [
        "experiment_df.to_csv(r'/content/ANGSD/files/Backup_v02.csv', index=False)"
      ],
      "execution_count": 0,
      "outputs": []
    }
  ]
}